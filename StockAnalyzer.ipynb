{
  "nbformat": 4,
  "nbformat_minor": 0,
  "metadata": {
    "colab": {
      "name": "StockAnalyzer.ipynb",
      "provenance": [],
      "collapsed_sections": [],
      "machine_shape": "hm",
      "authorship_tag": "ABX9TyPY1aypEZ9361tnlA5zpEob",
      "include_colab_link": true
    },
    "kernelspec": {
      "name": "python3",
      "display_name": "Python 3"
    },
    "language_info": {
      "name": "python"
    },
    "accelerator": "GPU"
  },
  "cells": [
    {
      "cell_type": "markdown",
      "metadata": {
        "id": "view-in-github",
        "colab_type": "text"
      },
      "source": [
        "<a href=\"https://colab.research.google.com/github/npselvan/StockInventory/blob/stockphase1/StockAnalyzer.ipynb\" target=\"_parent\"><img src=\"https://colab.research.google.com/assets/colab-badge.svg\" alt=\"Open In Colab\"/></a>"
      ]
    },
    {
      "cell_type": "code",
      "metadata": {
        "id": "BlUyYvnAbeEp"
      },
      "source": [
        "import requests\n",
        "import pandas as pd\n",
        "import numpy as np\n",
        "import matplotlib.pyplot as plt\n",
        "import seaborn as sns"
      ],
      "execution_count": 1,
      "outputs": []
    },
    {
      "cell_type": "code",
      "metadata": {
        "id": "FHIlgCS8bnjY"
      },
      "source": [
        "from bs4 import BeautifulSoup\n",
        "import lxml"
      ],
      "execution_count": 2,
      "outputs": []
    },
    {
      "cell_type": "code",
      "metadata": {
        "colab": {
          "base_uri": "https://localhost:8080/"
        },
        "id": "JQRDj-5Wg9C-",
        "outputId": "4c44c0da-b6b0-48f4-96a4-95cab7f242f3"
      },
      "source": [
        "!pip install bsedata"
      ],
      "execution_count": 3,
      "outputs": [
        {
          "output_type": "stream",
          "text": [
            "Collecting bsedata\n",
            "  Downloading https://files.pythonhosted.org/packages/29/fc/deba4c296cb89203d3bd3a80d8271c04d21dddd01a6d5d587781540a7331/bsedata-0.5.0-py3-none-any.whl\n",
            "Requirement already satisfied: requests in /usr/local/lib/python3.7/dist-packages (from bsedata) (2.23.0)\n",
            "Requirement already satisfied: beautifulsoup4 in /usr/local/lib/python3.7/dist-packages (from bsedata) (4.6.3)\n",
            "Requirement already satisfied: lxml in /usr/local/lib/python3.7/dist-packages (from bsedata) (4.2.6)\n",
            "Requirement already satisfied: urllib3!=1.25.0,!=1.25.1,<1.26,>=1.21.1 in /usr/local/lib/python3.7/dist-packages (from requests->bsedata) (1.24.3)\n",
            "Requirement already satisfied: certifi>=2017.4.17 in /usr/local/lib/python3.7/dist-packages (from requests->bsedata) (2021.5.30)\n",
            "Requirement already satisfied: idna<3,>=2.5 in /usr/local/lib/python3.7/dist-packages (from requests->bsedata) (2.10)\n",
            "Requirement already satisfied: chardet<4,>=3.0.2 in /usr/local/lib/python3.7/dist-packages (from requests->bsedata) (3.0.4)\n",
            "Installing collected packages: bsedata\n",
            "Successfully installed bsedata-0.5.0\n"
          ],
          "name": "stdout"
        }
      ]
    },
    {
      "cell_type": "code",
      "metadata": {
        "id": "7OXimM1DhBxS"
      },
      "source": [
        "from bsedata.bse import BSE\n",
        "b=BSE()\n",
        "data = pd.DataFrame(b.getQuote('534976'))\n"
      ],
      "execution_count": 4,
      "outputs": []
    },
    {
      "cell_type": "code",
      "metadata": {
        "colab": {
          "base_uri": "https://localhost:8080/"
        },
        "id": "b5vRSIUokXtY",
        "outputId": "28a15760-3248-497e-c77b-82a521a1d5e3"
      },
      "source": [
        "from google.colab import drive\n",
        "drive.mount('/content/drive')"
      ],
      "execution_count": 5,
      "outputs": [
        {
          "output_type": "stream",
          "text": [
            "Mounted at /content/drive\n"
          ],
          "name": "stdout"
        }
      ]
    },
    {
      "cell_type": "code",
      "metadata": {
        "colab": {
          "base_uri": "https://localhost:8080/",
          "height": 204
        },
        "id": "tqcB_B_ukoD0",
        "outputId": "9164d64e-7465-440d-da09-ee94bd751e1a"
      },
      "source": [
        "bsestocks=pd.read_csv('/content/drive/MyDrive/BSE_StockList.csv')\n",
        "bsestocks.head()"
      ],
      "execution_count": 6,
      "outputs": [
        {
          "output_type": "execute_result",
          "data": {
            "text/html": [
              "<div>\n",
              "<style scoped>\n",
              "    .dataframe tbody tr th:only-of-type {\n",
              "        vertical-align: middle;\n",
              "    }\n",
              "\n",
              "    .dataframe tbody tr th {\n",
              "        vertical-align: top;\n",
              "    }\n",
              "\n",
              "    .dataframe thead th {\n",
              "        text-align: right;\n",
              "    }\n",
              "</style>\n",
              "<table border=\"1\" class=\"dataframe\">\n",
              "  <thead>\n",
              "    <tr style=\"text-align: right;\">\n",
              "      <th></th>\n",
              "      <th>Security Code</th>\n",
              "      <th>Issuer Name</th>\n",
              "      <th>Security Id</th>\n",
              "      <th>Security Name</th>\n",
              "      <th>Status</th>\n",
              "      <th>Group</th>\n",
              "      <th>Face Value</th>\n",
              "      <th>ISIN No</th>\n",
              "      <th>Industry</th>\n",
              "      <th>Instrument</th>\n",
              "    </tr>\n",
              "  </thead>\n",
              "  <tbody>\n",
              "    <tr>\n",
              "      <th>0</th>\n",
              "      <td>500002</td>\n",
              "      <td>NaN</td>\n",
              "      <td>ABB</td>\n",
              "      <td>ABB India Limited</td>\n",
              "      <td>Active</td>\n",
              "      <td>A</td>\n",
              "      <td>2.00</td>\n",
              "      <td>INE117A01022</td>\n",
              "      <td>Heavy Electrical Equipment</td>\n",
              "      <td>Equity</td>\n",
              "    </tr>\n",
              "    <tr>\n",
              "      <th>1</th>\n",
              "      <td>500003</td>\n",
              "      <td>NaN</td>\n",
              "      <td>AEGISLOG</td>\n",
              "      <td>AEGIS LOGISTICS LTD.</td>\n",
              "      <td>Active</td>\n",
              "      <td>A</td>\n",
              "      <td>1.00</td>\n",
              "      <td>INE208C01025</td>\n",
              "      <td>Oil Marketing &amp; Distribution</td>\n",
              "      <td>Equity</td>\n",
              "    </tr>\n",
              "    <tr>\n",
              "      <th>2</th>\n",
              "      <td>500008</td>\n",
              "      <td>NaN</td>\n",
              "      <td>AMARAJABAT</td>\n",
              "      <td>AMARA RAJA BATTERIES LTD.</td>\n",
              "      <td>Active</td>\n",
              "      <td>A</td>\n",
              "      <td>1.00</td>\n",
              "      <td>INE885A01032</td>\n",
              "      <td>Auto Parts &amp; Equipment</td>\n",
              "      <td>Equity</td>\n",
              "    </tr>\n",
              "    <tr>\n",
              "      <th>3</th>\n",
              "      <td>500009</td>\n",
              "      <td>NaN</td>\n",
              "      <td>AMBALALSA</td>\n",
              "      <td>AMBALAL SARABHAI ENTERPRISES LTD.</td>\n",
              "      <td>Active</td>\n",
              "      <td>X</td>\n",
              "      <td>10.00</td>\n",
              "      <td>INE432A01017</td>\n",
              "      <td>Pharmaceuticals</td>\n",
              "      <td>Equity</td>\n",
              "    </tr>\n",
              "    <tr>\n",
              "      <th>4</th>\n",
              "      <td>500010</td>\n",
              "      <td>NaN</td>\n",
              "      <td>HDFC</td>\n",
              "      <td>HOUSING DEVELOPMENT FINANCE CORP.LTD.</td>\n",
              "      <td>Active</td>\n",
              "      <td>A</td>\n",
              "      <td>2.00</td>\n",
              "      <td>INE001A01036</td>\n",
              "      <td>Housing Finance</td>\n",
              "      <td>Equity</td>\n",
              "    </tr>\n",
              "  </tbody>\n",
              "</table>\n",
              "</div>"
            ],
            "text/plain": [
              "   Security Code  Issuer Name  ...                      Industry Instrument\n",
              "0         500002          NaN  ...    Heavy Electrical Equipment     Equity\n",
              "1         500003          NaN  ...  Oil Marketing & Distribution     Equity\n",
              "2         500008          NaN  ...        Auto Parts & Equipment     Equity\n",
              "3         500009          NaN  ...               Pharmaceuticals     Equity\n",
              "4         500010          NaN  ...              Housing Finance      Equity\n",
              "\n",
              "[5 rows x 10 columns]"
            ]
          },
          "metadata": {
            "tags": []
          },
          "execution_count": 6
        }
      ]
    },
    {
      "cell_type": "code",
      "metadata": {
        "id": "aBQzFpKXk1X_"
      },
      "source": [
        "bsestocks.drop(columns=['Issuer Name'], axis=1, inplace=True)"
      ],
      "execution_count": 7,
      "outputs": []
    },
    {
      "cell_type": "code",
      "metadata": {
        "colab": {
          "base_uri": "https://localhost:8080/"
        },
        "id": "t-YSgIXwnK4B",
        "outputId": "b5750bc0-1ef6-43b4-a83e-ccda601df915"
      },
      "source": [
        "bsestocks.info()"
      ],
      "execution_count": 8,
      "outputs": [
        {
          "output_type": "stream",
          "text": [
            "<class 'pandas.core.frame.DataFrame'>\n",
            "RangeIndex: 12383 entries, 0 to 12382\n",
            "Data columns (total 9 columns):\n",
            " #   Column         Non-Null Count  Dtype \n",
            "---  ------         --------------  ----- \n",
            " 0   Security Code  12383 non-null  int64 \n",
            " 1   Security Id    12383 non-null  object\n",
            " 2   Security Name  12383 non-null  object\n",
            " 3   Status         12383 non-null  object\n",
            " 4   Group          12383 non-null  object\n",
            " 5   Face Value     12383 non-null  object\n",
            " 6   ISIN No        12383 non-null  object\n",
            " 7   Industry       12383 non-null  object\n",
            " 8   Instrument     12383 non-null  object\n",
            "dtypes: int64(1), object(8)\n",
            "memory usage: 870.8+ KB\n"
          ],
          "name": "stdout"
        }
      ]
    },
    {
      "cell_type": "code",
      "metadata": {
        "id": "BDPOysbWopuA"
      },
      "source": [
        "d3=bsestocks.head(5)"
      ],
      "execution_count": 9,
      "outputs": []
    },
    {
      "cell_type": "code",
      "metadata": {
        "colab": {
          "base_uri": "https://localhost:8080/"
        },
        "id": "P9_yLFzLjRy4",
        "outputId": "8c916cac-b4f3-4334-d82a-dacaa5b19f40"
      },
      "source": [
        "cols= ['companyName', 'currentValue', 'change', 'pChange', 'updatedOn',\n",
        "       'priceBand', 'securityID', 'scripCode', 'group', 'faceValue',\n",
        "       'industry', 'previousClose', 'previousOpen', 'dayHigh', 'dayLow',\n",
        "       '52weekHigh', '52weekLow', 'weightedAvgPrice', 'totalTradedValue',\n",
        "       'totalTradedQuantity', '2WeekAvgQuantity', 'marketCapFull',\n",
        "       'marketCapFreeFloat', 'upperPriceBand', 'lowerPriceBand', 'buy', 'sell',\n",
        "       'StockCode']\n",
        "masterData=pd.DataFrame(columns=cols)\n",
        "for idx, sc in enumerate(d3['Security Code']):\n",
        "  print(\"Stock Code: {}\".format(sc))\n",
        "  print(\"*\"*60)\n",
        "  d1 = pd.DataFrame(b.getPeriodTrend(str(sc),'3M'))\n",
        "  d1['StockCode']=sc \n",
        "  print(d1)"
      ],
      "execution_count": 10,
      "outputs": [
        {
          "output_type": "stream",
          "text": [
            "Stock Code: 500002\n",
            "************************************************************\n",
            "                        date    value    vol  StockCode\n",
            "0   Tue Mar 30 2021 00:00:00  1439.40   7344     500002\n",
            "1   Wed Mar 31 2021 00:00:00  1417.40   4765     500002\n",
            "2   Thu Apr 01 2021 00:00:00  1397.25   5140     500002\n",
            "3   Mon Apr 05 2021 00:00:00  1377.95   6119     500002\n",
            "4   Tue Apr 06 2021 00:00:00  1376.30   2659     500002\n",
            "..                       ...      ...    ...        ...\n",
            "56  Tue Jun 22 2021 00:00:00  1739.80   4969     500002\n",
            "57  Wed Jun 23 2021 00:00:00  1810.75  62282     500002\n",
            "58  Thu Jun 24 2021 00:00:00  1809.45  14045     500002\n",
            "59  Fri Jun 25 2021 00:00:00  1824.30   6142     500002\n",
            "60  Mon Jun 28 2021 00:00:00  1809.80  17954     500002\n",
            "\n",
            "[61 rows x 4 columns]\n",
            "Stock Code: 500003\n",
            "************************************************************\n",
            "                        date   value    vol  StockCode\n",
            "0   Tue Mar 30 2021 00:00:00  290.00  53398     500003\n",
            "1   Wed Mar 31 2021 00:00:00  297.75  24960     500003\n",
            "2   Thu Apr 01 2021 00:00:00  301.25  17547     500003\n",
            "3   Mon Apr 05 2021 00:00:00  288.15  15421     500003\n",
            "4   Tue Apr 06 2021 00:00:00  282.10  23773     500003\n",
            "..                       ...     ...    ...        ...\n",
            "56  Tue Jun 22 2021 00:00:00  358.45  15280     500003\n",
            "57  Wed Jun 23 2021 00:00:00  349.95  32960     500003\n",
            "58  Thu Jun 24 2021 00:00:00  338.25  48336     500003\n",
            "59  Fri Jun 25 2021 00:00:00  362.00  83191     500003\n",
            "60  Mon Jun 28 2021 00:00:00  349.15  38071     500003\n",
            "\n",
            "[61 rows x 4 columns]\n",
            "Stock Code: 500008\n",
            "************************************************************\n",
            "                        date   value    vol  StockCode\n",
            "0   Tue Mar 30 2021 00:00:00  854.80  36270     500008\n",
            "1   Wed Mar 31 2021 00:00:00  853.50  18286     500008\n",
            "2   Thu Apr 01 2021 00:00:00  859.95   8515     500008\n",
            "3   Mon Apr 05 2021 00:00:00  847.55  23933     500008\n",
            "4   Tue Apr 06 2021 00:00:00  845.40  11892     500008\n",
            "..                       ...     ...    ...        ...\n",
            "56  Tue Jun 22 2021 00:00:00  747.35  77937     500008\n",
            "57  Wed Jun 23 2021 00:00:00  749.85  86822     500008\n",
            "58  Thu Jun 24 2021 00:00:00  742.05  55906     500008\n",
            "59  Fri Jun 25 2021 00:00:00  745.15  63787     500008\n",
            "60  Mon Jun 28 2021 00:00:00  751.30  28459     500008\n",
            "\n",
            "[61 rows x 4 columns]\n",
            "Stock Code: 500009\n",
            "************************************************************\n",
            "                        date  value      vol  StockCode\n",
            "0   Tue Mar 30 2021 00:00:00  17.40    34279     500009\n",
            "1   Wed Mar 31 2021 00:00:00  17.65   100426     500009\n",
            "2   Thu Apr 01 2021 00:00:00  17.80    35908     500009\n",
            "3   Mon Apr 05 2021 00:00:00  18.65    81189     500009\n",
            "4   Tue Apr 06 2021 00:00:00  18.15   125895     500009\n",
            "..                       ...    ...      ...        ...\n",
            "56  Tue Jun 22 2021 00:00:00  37.80    75066     500009\n",
            "57  Wed Jun 23 2021 00:00:00  39.30  3166386     500009\n",
            "58  Thu Jun 24 2021 00:00:00  37.35   921482     500009\n",
            "59  Fri Jun 25 2021 00:00:00  35.80   767621     500009\n",
            "60  Mon Jun 28 2021 00:00:00  34.80   422663     500009\n",
            "\n",
            "[61 rows x 4 columns]\n",
            "Stock Code: 500010\n",
            "************************************************************\n",
            "                        date    value     vol  StockCode\n",
            "0   Tue Mar 30 2021 00:00:00  2604.60   86399     500010\n",
            "1   Wed Mar 31 2021 00:00:00  2498.95  129334     500010\n",
            "2   Thu Apr 01 2021 00:00:00  2530.95  151856     500010\n",
            "3   Mon Apr 05 2021 00:00:00  2446.00  164674     500010\n",
            "4   Tue Apr 06 2021 00:00:00  2472.80  314758     500010\n",
            "..                       ...      ...     ...        ...\n",
            "56  Tue Jun 22 2021 00:00:00  2521.75   76735     500010\n",
            "57  Wed Jun 23 2021 00:00:00  2497.90  161049     500010\n",
            "58  Thu Jun 24 2021 00:00:00  2487.30  128061     500010\n",
            "59  Fri Jun 25 2021 00:00:00  2507.60   67653     500010\n",
            "60  Mon Jun 28 2021 00:00:00  2494.90   66335     500010\n",
            "\n",
            "[61 rows x 4 columns]\n"
          ],
          "name": "stdout"
        }
      ]
    },
    {
      "cell_type": "code",
      "metadata": {
        "colab": {
          "base_uri": "https://localhost:8080/"
        },
        "id": "0CqzekGKppHT",
        "outputId": "c7b8cc96-db92-46af-94e7-d05c466b2242"
      },
      "source": [
        "print(b.getQuote('500354'))"
      ],
      "execution_count": 11,
      "outputs": [
        {
          "output_type": "stream",
          "text": [
            "{'companyName': 'RAJSHREE SUGARS & CHEMICALS LTD.', 'currentValue': '30.10', 'change': '1.40', 'pChange': '4.88', 'updatedOn': '29 Jun 21 | 10:56 AM', 'priceBand': '', 'securityID': 'RAJSREESUG', 'scripCode': '500354', 'group': 'T  /', 'faceValue': '10.00', 'industry': 'Sugar', 'previousClose': '28.70', 'previousOpen': '30.10', 'dayHigh': '30.10', 'dayLow': '30.10', '52weekHigh': '30.10', '52weekLow': '11.60', 'weightedAvgPrice': '30.10', 'totalTradedValue': '0.05 Cr.', 'totalTradedQuantity': '0.16 Lakh', '2WeekAvgQuantity': '0.15 Lakh', 'marketCapFull': '84.78 Cr.', 'marketCapFreeFloat': '44.09 Cr.', 'upperPriceBand': '', 'lowerPriceBand': '', 'buy': {'1': {'quantity': '1966', 'price': '30.10'}, '2': {'quantity': '250', 'price': '29.65'}, '3': {'quantity': '100', 'price': '29.20'}, '4': {'quantity': '50', 'price': '27.65'}, '5': {'quantity': '50', 'price': '27.50'}}, 'sell': {'1': {'price': '0.00', 'quantity': '-'}, '2': {'price': '0.00', 'quantity': '-'}, '3': {'price': '0.00', 'quantity': '-'}, '4': {'price': '0.00', 'quantity': '-'}, '5': {'price': '0.00', 'quantity': '-'}}}\n"
          ],
          "name": "stdout"
        }
      ]
    }
  ]
}