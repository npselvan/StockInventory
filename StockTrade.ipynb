{
  "nbformat": 4,
  "nbformat_minor": 0,
  "metadata": {
    "colab": {
      "name": "StockTrade.ipynb",
      "provenance": [],
      "collapsed_sections": [],
      "authorship_tag": "ABX9TyOz7hbHSNfjw54AtRgD48FN",
      "include_colab_link": true
    },
    "kernelspec": {
      "name": "python3",
      "display_name": "Python 3"
    },
    "language_info": {
      "name": "python"
    }
  },
  "cells": [
    {
      "cell_type": "markdown",
      "metadata": {
        "id": "view-in-github",
        "colab_type": "text"
      },
      "source": [
        "<a href=\"https://colab.research.google.com/github/npselvan/StockInventory/blob/stockphase1/StockTrade.ipynb\" target=\"_parent\"><img src=\"https://colab.research.google.com/assets/colab-badge.svg\" alt=\"Open In Colab\"/></a>"
      ]
    },
    {
      "cell_type": "code",
      "metadata": {
        "id": "KV3S3pLEZTxz"
      },
      "source": [
        "import requests\n",
        "from bs4 import BeautifulSoup\n",
        "import lxml\n",
        "import pandas as pd\n",
        "import numpy as np\n",
        "import matplotlib.pyplot as plt\n",
        "import seaborn as sns"
      ],
      "execution_count": 2,
      "outputs": []
    },
    {
      "cell_type": "markdown",
      "metadata": {
        "id": "psTHv9wNZy7F"
      },
      "source": [
        "https://www.bseindia.com/markets/equity/EQReports/StockPrcHistori.aspx?expandable=7&scripcode=500354&flag=sp&Submit=G"
      ]
    },
    {
      "cell_type": "code",
      "metadata": {
        "colab": {
          "base_uri": "https://localhost:8080/"
        },
        "id": "9HFi5bjuZ0Dd",
        "outputId": "0e4a4621-5d75-4483-cf68-ec5c8dcbe8cc"
      },
      "source": [
        "headers={\n",
        "    'User-Agent':'Mozilla/5.0'\n",
        "}\n",
        "url=\"https://www.bseindia.com/markets/equity/EQReports/StockPrcHistori.aspx?expandable=7&scripcode=500354&flag=sp&Submit=G\"\n",
        "data=requests.get(url, headers=headers).content\n",
        "df_list=pd.read_html(data)\n",
        "df=df_list[-1]\n",
        "df.columns"
      ],
      "execution_count": 16,
      "outputs": [
        {
          "output_type": "execute_result",
          "data": {
            "text/plain": [
              "Int64Index([0, 1, 2, 3, 4, 5, 6, 7, 8, 9, 10, 11, 12], dtype='int64')"
            ]
          },
          "metadata": {
            "tags": []
          },
          "execution_count": 16
        }
      ]
    },
    {
      "cell_type": "code",
      "metadata": {
        "colab": {
          "base_uri": "https://localhost:8080/"
        },
        "id": "nAqx4sAEgJxV",
        "outputId": "f4b01023-40e6-4560-8e6d-b1234f8179f2"
      },
      "source": [
        "from google.colab import drive\n",
        "drive.mount('/content/drive')"
      ],
      "execution_count": 25,
      "outputs": [
        {
          "output_type": "stream",
          "text": [
            "Mounted at /content/drive\n"
          ],
          "name": "stdout"
        }
      ]
    },
    {
      "cell_type": "code",
      "metadata": {
        "colab": {
          "base_uri": "https://localhost:8080/",
          "height": 206
        },
        "id": "N6WJb23AhgyR",
        "outputId": "06e362de-c919-4423-bd89-8e1cc14b5882"
      },
      "source": [
        "bsestocks=pd.read_csv('/content/drive/MyDrive/BSE_StockList.csv')\n",
        "bsestocks.drop(columns=['Issuer Name'], axis=1, inplace=True)\n",
        "bsestocks.head()"
      ],
      "execution_count": 28,
      "outputs": [
        {
          "output_type": "execute_result",
          "data": {
            "text/html": [
              "<div>\n",
              "<style scoped>\n",
              "    .dataframe tbody tr th:only-of-type {\n",
              "        vertical-align: middle;\n",
              "    }\n",
              "\n",
              "    .dataframe tbody tr th {\n",
              "        vertical-align: top;\n",
              "    }\n",
              "\n",
              "    .dataframe thead th {\n",
              "        text-align: right;\n",
              "    }\n",
              "</style>\n",
              "<table border=\"1\" class=\"dataframe\">\n",
              "  <thead>\n",
              "    <tr style=\"text-align: right;\">\n",
              "      <th></th>\n",
              "      <th>Security Code</th>\n",
              "      <th>Security Id</th>\n",
              "      <th>Security Name</th>\n",
              "      <th>Status</th>\n",
              "      <th>Group</th>\n",
              "      <th>Face Value</th>\n",
              "      <th>ISIN No</th>\n",
              "      <th>Industry</th>\n",
              "      <th>Instrument</th>\n",
              "    </tr>\n",
              "  </thead>\n",
              "  <tbody>\n",
              "    <tr>\n",
              "      <th>0</th>\n",
              "      <td>500002</td>\n",
              "      <td>ABB</td>\n",
              "      <td>ABB India Limited</td>\n",
              "      <td>Active</td>\n",
              "      <td>A</td>\n",
              "      <td>2.00</td>\n",
              "      <td>INE117A01022</td>\n",
              "      <td>Heavy Electrical Equipment</td>\n",
              "      <td>Equity</td>\n",
              "    </tr>\n",
              "    <tr>\n",
              "      <th>1</th>\n",
              "      <td>500003</td>\n",
              "      <td>AEGISLOG</td>\n",
              "      <td>AEGIS LOGISTICS LTD.</td>\n",
              "      <td>Active</td>\n",
              "      <td>A</td>\n",
              "      <td>1.00</td>\n",
              "      <td>INE208C01025</td>\n",
              "      <td>Oil Marketing &amp; Distribution</td>\n",
              "      <td>Equity</td>\n",
              "    </tr>\n",
              "    <tr>\n",
              "      <th>2</th>\n",
              "      <td>500008</td>\n",
              "      <td>AMARAJABAT</td>\n",
              "      <td>AMARA RAJA BATTERIES LTD.</td>\n",
              "      <td>Active</td>\n",
              "      <td>A</td>\n",
              "      <td>1.00</td>\n",
              "      <td>INE885A01032</td>\n",
              "      <td>Auto Parts &amp; Equipment</td>\n",
              "      <td>Equity</td>\n",
              "    </tr>\n",
              "    <tr>\n",
              "      <th>3</th>\n",
              "      <td>500009</td>\n",
              "      <td>AMBALALSA</td>\n",
              "      <td>AMBALAL SARABHAI ENTERPRISES LTD.</td>\n",
              "      <td>Active</td>\n",
              "      <td>X</td>\n",
              "      <td>10.00</td>\n",
              "      <td>INE432A01017</td>\n",
              "      <td>Pharmaceuticals</td>\n",
              "      <td>Equity</td>\n",
              "    </tr>\n",
              "    <tr>\n",
              "      <th>4</th>\n",
              "      <td>500010</td>\n",
              "      <td>HDFC</td>\n",
              "      <td>HOUSING DEVELOPMENT FINANCE CORP.LTD.</td>\n",
              "      <td>Active</td>\n",
              "      <td>A</td>\n",
              "      <td>2.00</td>\n",
              "      <td>INE001A01036</td>\n",
              "      <td>Housing Finance</td>\n",
              "      <td>Equity</td>\n",
              "    </tr>\n",
              "  </tbody>\n",
              "</table>\n",
              "</div>"
            ],
            "text/plain": [
              "   Security Code Security Id  ...                      Industry Instrument\n",
              "0         500002         ABB  ...    Heavy Electrical Equipment     Equity\n",
              "1         500003    AEGISLOG  ...  Oil Marketing & Distribution     Equity\n",
              "2         500008  AMARAJABAT  ...        Auto Parts & Equipment     Equity\n",
              "3         500009   AMBALALSA  ...               Pharmaceuticals     Equity\n",
              "4         500010        HDFC  ...              Housing Finance      Equity\n",
              "\n",
              "[5 rows x 9 columns]"
            ]
          },
          "metadata": {
            "tags": []
          },
          "execution_count": 28
        }
      ]
    },
    {
      "cell_type": "code",
      "metadata": {
        "id": "_78-KVNUiPxB"
      },
      "source": [
        "activeStocks=bsestocks[bsestocks['Group']=='A ']\n",
        "activeStocks.head()\n",
        "df1=activeStocks.head(10)"
      ],
      "execution_count": 46,
      "outputs": []
    },
    {
      "cell_type": "code",
      "metadata": {
        "id": "AWypF6Ssh-fJ"
      },
      "source": [
        "df2=pd.DataFrame()\n",
        "for idx, sc in enumerate(df1['Security Code']):\n",
        "  url = \"https://www.bseindia.com/markets/equity/EQReports/StockPrcHistori.aspx?expandable=7&scripcode={}&flag=sp&Submit=G\".format(sc)\n",
        "  pcontent = requests.get(url, headers=headers).content\n",
        "  df=pd.read_html(pcontent)[-1]\n",
        "  df['StockCode']=sc\n",
        "  df2=df2.append(df,ignore_index=False) \n",
        "  "
      ],
      "execution_count": 47,
      "outputs": []
    },
    {
      "cell_type": "code",
      "metadata": {
        "colab": {
          "base_uri": "https://localhost:8080/"
        },
        "id": "gnH4tGbzgOsr",
        "outputId": "f7a84da8-eb38-4b78-8221-63c9940ddf99"
      },
      "source": [
        "df2['StockCode'].value_counts()\n"
      ],
      "execution_count": 51,
      "outputs": [
        {
          "output_type": "execute_result",
          "data": {
            "text/plain": [
              "500034    32\n",
              "500033    32\n",
              "500032    32\n",
              "500031    32\n",
              "500027    32\n",
              "500020    32\n",
              "500010    32\n",
              "500008    32\n",
              "500003    32\n",
              "500002    32\n",
              "Name: StockCode, dtype: int64"
            ]
          },
          "metadata": {
            "tags": []
          },
          "execution_count": 51
        }
      ]
    }
  ]
}