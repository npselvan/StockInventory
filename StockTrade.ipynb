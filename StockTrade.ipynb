{
  "nbformat": 4,
  "nbformat_minor": 0,
  "metadata": {
    "colab": {
      "name": "StockTrade.ipynb",
      "provenance": [],
      "collapsed_sections": [],
      "machine_shape": "hm",
      "authorship_tag": "ABX9TyO+/uATvUQXhe9n91fuZ8PA",
      "include_colab_link": true
    },
    "kernelspec": {
      "name": "python3",
      "display_name": "Python 3"
    },
    "language_info": {
      "name": "python"
    },
    "accelerator": "GPU"
  },
  "cells": [
    {
      "cell_type": "markdown",
      "metadata": {
        "id": "view-in-github",
        "colab_type": "text"
      },
      "source": [
        "<a href=\"https://colab.research.google.com/github/npselvan/StockInventory/blob/stockphase1/StockTrade.ipynb\" target=\"_parent\"><img src=\"https://colab.research.google.com/assets/colab-badge.svg\" alt=\"Open In Colab\"/></a>"
      ]
    },
    {
      "cell_type": "code",
      "metadata": {
        "id": "KV3S3pLEZTxz"
      },
      "source": [
        "import requests\n",
        "from bs4 import BeautifulSoup\n",
        "import lxml\n",
        "import pandas as pd\n",
        "import numpy as np\n",
        "import matplotlib.pyplot as plt\n",
        "import seaborn as sns"
      ],
      "execution_count": 1,
      "outputs": []
    },
    {
      "cell_type": "markdown",
      "metadata": {
        "id": "psTHv9wNZy7F"
      },
      "source": [
        "https://www.bseindia.com/markets/equity/EQReports/StockPrcHistori.aspx?expandable=7&scripcode=500354&flag=sp&Submit=G"
      ]
    },
    {
      "cell_type": "code",
      "metadata": {
        "colab": {
          "base_uri": "https://localhost:8080/"
        },
        "id": "9HFi5bjuZ0Dd",
        "outputId": "e1948eed-6ade-4869-d65b-d9b5778a4b31"
      },
      "source": [
        "headers={\n",
        "    'User-Agent':'Mozilla/5.0'\n",
        "}\n",
        "url=\"https://www.bseindia.com/markets/equity/EQReports/StockPrcHistori.aspx?expandable=7&scripcode=500354&flag=sp&Submit=G\"\n",
        "data=requests.get(url, headers=headers).content\n",
        "df_list=pd.read_html(data)\n",
        "df=df_list[-1]\n",
        "df.columns"
      ],
      "execution_count": 2,
      "outputs": [
        {
          "output_type": "execute_result",
          "data": {
            "text/plain": [
              "Int64Index([0, 1, 2, 3, 4, 5, 6, 7, 8, 9, 10, 11, 12], dtype='int64')"
            ]
          },
          "metadata": {
            "tags": []
          },
          "execution_count": 2
        }
      ]
    },
    {
      "cell_type": "code",
      "metadata": {
        "colab": {
          "base_uri": "https://localhost:8080/"
        },
        "id": "nAqx4sAEgJxV",
        "outputId": "857a9203-da3f-4c40-c225-06da5976ac7c"
      },
      "source": [
        "from google.colab import drive\n",
        "drive.mount('/content/drive')"
      ],
      "execution_count": 3,
      "outputs": [
        {
          "output_type": "stream",
          "text": [
            "Mounted at /content/drive\n"
          ],
          "name": "stdout"
        }
      ]
    },
    {
      "cell_type": "code",
      "metadata": {
        "colab": {
          "base_uri": "https://localhost:8080/",
          "height": 308
        },
        "id": "N6WJb23AhgyR",
        "outputId": "bb63df42-e77d-499f-f8be-666d3f8e6a59"
      },
      "source": [
        "bsestocks=pd.read_csv('/content/drive/MyDrive/BSE_StockList.csv')\n",
        "bsestocks.drop(columns=['Issuer Name'], axis=1, inplace=True)\n",
        "bsestocks.head()"
      ],
      "execution_count": 4,
      "outputs": [
        {
          "output_type": "execute_result",
          "data": {
            "text/html": [
              "<div>\n",
              "<style scoped>\n",
              "    .dataframe tbody tr th:only-of-type {\n",
              "        vertical-align: middle;\n",
              "    }\n",
              "\n",
              "    .dataframe tbody tr th {\n",
              "        vertical-align: top;\n",
              "    }\n",
              "\n",
              "    .dataframe thead th {\n",
              "        text-align: right;\n",
              "    }\n",
              "</style>\n",
              "<table border=\"1\" class=\"dataframe\">\n",
              "  <thead>\n",
              "    <tr style=\"text-align: right;\">\n",
              "      <th></th>\n",
              "      <th>Security Code</th>\n",
              "      <th>Security Id</th>\n",
              "      <th>Security Name</th>\n",
              "      <th>Status</th>\n",
              "      <th>Group</th>\n",
              "      <th>Face Value</th>\n",
              "      <th>ISIN No</th>\n",
              "      <th>Industry</th>\n",
              "      <th>Instrument</th>\n",
              "    </tr>\n",
              "  </thead>\n",
              "  <tbody>\n",
              "    <tr>\n",
              "      <th>0</th>\n",
              "      <td>500002</td>\n",
              "      <td>ABB</td>\n",
              "      <td>ABB India Limited</td>\n",
              "      <td>Active</td>\n",
              "      <td>A</td>\n",
              "      <td>2.00</td>\n",
              "      <td>INE117A01022</td>\n",
              "      <td>Heavy Electrical Equipment</td>\n",
              "      <td>Equity</td>\n",
              "    </tr>\n",
              "    <tr>\n",
              "      <th>1</th>\n",
              "      <td>500003</td>\n",
              "      <td>AEGISLOG</td>\n",
              "      <td>AEGIS LOGISTICS LTD.</td>\n",
              "      <td>Active</td>\n",
              "      <td>A</td>\n",
              "      <td>1.00</td>\n",
              "      <td>INE208C01025</td>\n",
              "      <td>Oil Marketing &amp; Distribution</td>\n",
              "      <td>Equity</td>\n",
              "    </tr>\n",
              "    <tr>\n",
              "      <th>2</th>\n",
              "      <td>500008</td>\n",
              "      <td>AMARAJABAT</td>\n",
              "      <td>AMARA RAJA BATTERIES LTD.</td>\n",
              "      <td>Active</td>\n",
              "      <td>A</td>\n",
              "      <td>1.00</td>\n",
              "      <td>INE885A01032</td>\n",
              "      <td>Auto Parts &amp; Equipment</td>\n",
              "      <td>Equity</td>\n",
              "    </tr>\n",
              "    <tr>\n",
              "      <th>3</th>\n",
              "      <td>500009</td>\n",
              "      <td>AMBALALSA</td>\n",
              "      <td>AMBALAL SARABHAI ENTERPRISES LTD.</td>\n",
              "      <td>Active</td>\n",
              "      <td>X</td>\n",
              "      <td>10.00</td>\n",
              "      <td>INE432A01017</td>\n",
              "      <td>Pharmaceuticals</td>\n",
              "      <td>Equity</td>\n",
              "    </tr>\n",
              "    <tr>\n",
              "      <th>4</th>\n",
              "      <td>500010</td>\n",
              "      <td>HDFC</td>\n",
              "      <td>HOUSING DEVELOPMENT FINANCE CORP.LTD.</td>\n",
              "      <td>Active</td>\n",
              "      <td>A</td>\n",
              "      <td>2.00</td>\n",
              "      <td>INE001A01036</td>\n",
              "      <td>Housing Finance</td>\n",
              "      <td>Equity</td>\n",
              "    </tr>\n",
              "  </tbody>\n",
              "</table>\n",
              "</div>"
            ],
            "text/plain": [
              "   Security Code Security Id  ...                      Industry Instrument\n",
              "0         500002         ABB  ...    Heavy Electrical Equipment     Equity\n",
              "1         500003    AEGISLOG  ...  Oil Marketing & Distribution     Equity\n",
              "2         500008  AMARAJABAT  ...        Auto Parts & Equipment     Equity\n",
              "3         500009   AMBALALSA  ...               Pharmaceuticals     Equity\n",
              "4         500010        HDFC  ...              Housing Finance      Equity\n",
              "\n",
              "[5 rows x 9 columns]"
            ]
          },
          "metadata": {
            "tags": []
          },
          "execution_count": 4
        }
      ]
    },
    {
      "cell_type": "code",
      "metadata": {
        "id": "_78-KVNUiPxB"
      },
      "source": [
        "activeStocks=bsestocks[bsestocks['Group']=='A ']\n",
        "activeStocks.head()\n",
        "df1=activeStocks.head(500)"
      ],
      "execution_count": 51,
      "outputs": []
    },
    {
      "cell_type": "code",
      "metadata": {
        "id": "AWypF6Ssh-fJ"
      },
      "source": [
        "df2=pd.DataFrame()\n",
        "for idx, sc in enumerate(df1['Security Code']):\n",
        "  url = \"https://www.bseindia.com/markets/equity/EQReports/StockPrcHistori.aspx?expandable=7&scripcode={}&flag=sp&Submit=G\".format(sc)\n",
        "  pcontent = requests.get(url, headers=headers).content\n",
        "  df=pd.read_html(pcontent)[-1]\n",
        "  df['StockCode']=sc\n",
        "  df2=df2.append(df,ignore_index=False) \n",
        "  "
      ],
      "execution_count": 52,
      "outputs": []
    },
    {
      "cell_type": "code",
      "metadata": {
        "id": "gnH4tGbzgOsr"
      },
      "source": [
        "df2.drop(df2[df2[1]=='Open'].index, inplace=True)"
      ],
      "execution_count": 53,
      "outputs": []
    },
    {
      "cell_type": "code",
      "metadata": {
        "id": "4Pv9C3hsNFfI"
      },
      "source": [
        "df3=df2.copy()"
      ],
      "execution_count": 54,
      "outputs": []
    },
    {
      "cell_type": "code",
      "metadata": {
        "id": "-J-rrY2-NQjX"
      },
      "source": [
        "cols=['Date','Open','High','Low','Close','WAP','No. of Shares','No. of Trades','Total Turnover','Deliverable Quantity','% Deli. Qty to Traded Qty','H-L','C-O','StockCode']\n",
        "df3.columns=cols"
      ],
      "execution_count": 55,
      "outputs": []
    },
    {
      "cell_type": "code",
      "metadata": {
        "colab": {
          "base_uri": "https://localhost:8080/"
        },
        "id": "zXuuW5F7LyjV",
        "outputId": "a02584c6-b661-4765-eec0-c97f52a0bc25"
      },
      "source": [
        "df3.info()"
      ],
      "execution_count": 56,
      "outputs": [
        {
          "output_type": "stream",
          "text": [
            "<class 'pandas.core.frame.DataFrame'>\n",
            "Int64Index: 15000 entries, 2 to 31\n",
            "Data columns (total 14 columns):\n",
            " #   Column                     Non-Null Count  Dtype \n",
            "---  ------                     --------------  ----- \n",
            " 0   Date                       15000 non-null  object\n",
            " 1   Open                       15000 non-null  object\n",
            " 2   High                       15000 non-null  object\n",
            " 3   Low                        15000 non-null  object\n",
            " 4   Close                      15000 non-null  object\n",
            " 5   WAP                        15000 non-null  object\n",
            " 6   No. of Shares              15000 non-null  object\n",
            " 7   No. of Trades              15000 non-null  object\n",
            " 8   Total Turnover             15000 non-null  object\n",
            " 9   Deliverable Quantity       15000 non-null  object\n",
            " 10  % Deli. Qty to Traded Qty  15000 non-null  object\n",
            " 11  H-L                        15000 non-null  object\n",
            " 12  C-O                        15000 non-null  object\n",
            " 13  StockCode                  15000 non-null  int64 \n",
            "dtypes: int64(1), object(13)\n",
            "memory usage: 1.7+ MB\n"
          ],
          "name": "stdout"
        }
      ]
    },
    {
      "cell_type": "code",
      "metadata": {
        "id": "xFEiA24fN5ki"
      },
      "source": [
        "df3 = df3.astype({'Open':'float32', 'High':'float32', 'Low':'float32', 'Close':'float32', 'WAP':'float32', 'No. of Shares':'int64',\n",
        "            'No. of Trades':'int64','Total Turnover':'int64','Deliverable Quantity':'int64','% Deli. Qty to Traded Qty':'float32',\n",
        "            'H-L':'float32','C-O':'float32'})"
      ],
      "execution_count": 57,
      "outputs": []
    },
    {
      "cell_type": "code",
      "metadata": {
        "colab": {
          "base_uri": "https://localhost:8080/"
        },
        "id": "aKQ5orRaProK",
        "outputId": "5057c11b-d8ce-44a6-b0a0-13ec1882159b"
      },
      "source": [
        "df3.info()"
      ],
      "execution_count": 58,
      "outputs": [
        {
          "output_type": "stream",
          "text": [
            "<class 'pandas.core.frame.DataFrame'>\n",
            "Int64Index: 15000 entries, 2 to 31\n",
            "Data columns (total 14 columns):\n",
            " #   Column                     Non-Null Count  Dtype  \n",
            "---  ------                     --------------  -----  \n",
            " 0   Date                       15000 non-null  object \n",
            " 1   Open                       15000 non-null  float32\n",
            " 2   High                       15000 non-null  float32\n",
            " 3   Low                        15000 non-null  float32\n",
            " 4   Close                      15000 non-null  float32\n",
            " 5   WAP                        15000 non-null  float32\n",
            " 6   No. of Shares              15000 non-null  int64  \n",
            " 7   No. of Trades              15000 non-null  int64  \n",
            " 8   Total Turnover             15000 non-null  int64  \n",
            " 9   Deliverable Quantity       15000 non-null  int64  \n",
            " 10  % Deli. Qty to Traded Qty  15000 non-null  float32\n",
            " 11  H-L                        15000 non-null  float32\n",
            " 12  C-O                        15000 non-null  float32\n",
            " 13  StockCode                  15000 non-null  int64  \n",
            "dtypes: float32(8), int64(5), object(1)\n",
            "memory usage: 1.3+ MB\n"
          ],
          "name": "stdout"
        }
      ]
    },
    {
      "cell_type": "code",
      "metadata": {
        "colab": {
          "base_uri": "https://localhost:8080/",
          "height": 492
        },
        "id": "yOxjD1K9QuGt",
        "outputId": "19a19adc-bb9d-45bf-8640-3851205c4782"
      },
      "source": [
        "df3.sort_values(['StockCode','C-O'],ascending=False).groupby('StockCode').head(3)"
      ],
      "execution_count": 59,
      "outputs": [
        {
          "output_type": "execute_result",
          "data": {
            "text/html": [
              "<div>\n",
              "<style scoped>\n",
              "    .dataframe tbody tr th:only-of-type {\n",
              "        vertical-align: middle;\n",
              "    }\n",
              "\n",
              "    .dataframe tbody tr th {\n",
              "        vertical-align: top;\n",
              "    }\n",
              "\n",
              "    .dataframe thead th {\n",
              "        text-align: right;\n",
              "    }\n",
              "</style>\n",
              "<table border=\"1\" class=\"dataframe\">\n",
              "  <thead>\n",
              "    <tr style=\"text-align: right;\">\n",
              "      <th></th>\n",
              "      <th>Date</th>\n",
              "      <th>Open</th>\n",
              "      <th>High</th>\n",
              "      <th>Low</th>\n",
              "      <th>Close</th>\n",
              "      <th>WAP</th>\n",
              "      <th>No. of Shares</th>\n",
              "      <th>No. of Trades</th>\n",
              "      <th>Total Turnover</th>\n",
              "      <th>Deliverable Quantity</th>\n",
              "      <th>% Deli. Qty to Traded Qty</th>\n",
              "      <th>H-L</th>\n",
              "      <th>C-O</th>\n",
              "      <th>StockCode</th>\n",
              "    </tr>\n",
              "  </thead>\n",
              "  <tbody>\n",
              "    <tr>\n",
              "      <th>28</th>\n",
              "      <td>26/05/21</td>\n",
              "      <td>11425.000000</td>\n",
              "      <td>11974.150391</td>\n",
              "      <td>11412.000000</td>\n",
              "      <td>11907.750000</td>\n",
              "      <td>11701.559570</td>\n",
              "      <td>28067</td>\n",
              "      <td>5186</td>\n",
              "      <td>328427814</td>\n",
              "      <td>4011</td>\n",
              "      <td>14.290000</td>\n",
              "      <td>562.150024</td>\n",
              "      <td>482.750000</td>\n",
              "      <td>532978</td>\n",
              "    </tr>\n",
              "    <tr>\n",
              "      <th>10</th>\n",
              "      <td>21/06/21</td>\n",
              "      <td>11721.000000</td>\n",
              "      <td>12202.950195</td>\n",
              "      <td>11721.000000</td>\n",
              "      <td>12161.700195</td>\n",
              "      <td>12044.190430</td>\n",
              "      <td>14422</td>\n",
              "      <td>3269</td>\n",
              "      <td>173701294</td>\n",
              "      <td>3295</td>\n",
              "      <td>22.850000</td>\n",
              "      <td>481.950012</td>\n",
              "      <td>440.700012</td>\n",
              "      <td>532978</td>\n",
              "    </tr>\n",
              "    <tr>\n",
              "      <th>21</th>\n",
              "      <td>4/06/21</td>\n",
              "      <td>11775.000000</td>\n",
              "      <td>12189.000000</td>\n",
              "      <td>11775.000000</td>\n",
              "      <td>12152.400391</td>\n",
              "      <td>12006.459961</td>\n",
              "      <td>20375</td>\n",
              "      <td>4294</td>\n",
              "      <td>244631580</td>\n",
              "      <td>6706</td>\n",
              "      <td>32.910000</td>\n",
              "      <td>414.000000</td>\n",
              "      <td>377.399994</td>\n",
              "      <td>532978</td>\n",
              "    </tr>\n",
              "    <tr>\n",
              "      <th>11</th>\n",
              "      <td>18/06/21</td>\n",
              "      <td>4046.550049</td>\n",
              "      <td>4192.000000</td>\n",
              "      <td>4030.399902</td>\n",
              "      <td>4164.950195</td>\n",
              "      <td>4114.140137</td>\n",
              "      <td>30211</td>\n",
              "      <td>4612</td>\n",
              "      <td>124292353</td>\n",
              "      <td>9385</td>\n",
              "      <td>31.059999</td>\n",
              "      <td>161.600006</td>\n",
              "      <td>118.400002</td>\n",
              "      <td>532977</td>\n",
              "    </tr>\n",
              "    <tr>\n",
              "      <th>2</th>\n",
              "      <td>1/07/21</td>\n",
              "      <td>4140.000000</td>\n",
              "      <td>4250.000000</td>\n",
              "      <td>4140.000000</td>\n",
              "      <td>4205.600098</td>\n",
              "      <td>4216.529785</td>\n",
              "      <td>26602</td>\n",
              "      <td>3351</td>\n",
              "      <td>112168134</td>\n",
              "      <td>2850</td>\n",
              "      <td>10.710000</td>\n",
              "      <td>110.000000</td>\n",
              "      <td>65.599998</td>\n",
              "      <td>532977</td>\n",
              "    </tr>\n",
              "    <tr>\n",
              "      <th>...</th>\n",
              "      <td>...</td>\n",
              "      <td>...</td>\n",
              "      <td>...</td>\n",
              "      <td>...</td>\n",
              "      <td>...</td>\n",
              "      <td>...</td>\n",
              "      <td>...</td>\n",
              "      <td>...</td>\n",
              "      <td>...</td>\n",
              "      <td>...</td>\n",
              "      <td>...</td>\n",
              "      <td>...</td>\n",
              "      <td>...</td>\n",
              "      <td>...</td>\n",
              "    </tr>\n",
              "    <tr>\n",
              "      <th>25</th>\n",
              "      <td>31/05/21</td>\n",
              "      <td>339.000000</td>\n",
              "      <td>360.500000</td>\n",
              "      <td>339.000000</td>\n",
              "      <td>358.649994</td>\n",
              "      <td>355.170013</td>\n",
              "      <td>101482</td>\n",
              "      <td>3271</td>\n",
              "      <td>36043854</td>\n",
              "      <td>61242</td>\n",
              "      <td>60.349998</td>\n",
              "      <td>21.500000</td>\n",
              "      <td>19.650000</td>\n",
              "      <td>500003</td>\n",
              "    </tr>\n",
              "    <tr>\n",
              "      <th>30</th>\n",
              "      <td>24/05/21</td>\n",
              "      <td>332.450012</td>\n",
              "      <td>355.000000</td>\n",
              "      <td>332.450012</td>\n",
              "      <td>348.899994</td>\n",
              "      <td>349.029999</td>\n",
              "      <td>122089</td>\n",
              "      <td>5072</td>\n",
              "      <td>42612315</td>\n",
              "      <td>47072</td>\n",
              "      <td>38.560001</td>\n",
              "      <td>22.549999</td>\n",
              "      <td>16.450001</td>\n",
              "      <td>500003</td>\n",
              "    </tr>\n",
              "    <tr>\n",
              "      <th>25</th>\n",
              "      <td>31/05/21</td>\n",
              "      <td>1599.000000</td>\n",
              "      <td>1730.000000</td>\n",
              "      <td>1599.000000</td>\n",
              "      <td>1667.900024</td>\n",
              "      <td>1677.130005</td>\n",
              "      <td>75026</td>\n",
              "      <td>6213</td>\n",
              "      <td>125828418</td>\n",
              "      <td>22519</td>\n",
              "      <td>30.010000</td>\n",
              "      <td>131.000000</td>\n",
              "      <td>68.900002</td>\n",
              "      <td>500002</td>\n",
              "    </tr>\n",
              "    <tr>\n",
              "      <th>27</th>\n",
              "      <td>27/05/21</td>\n",
              "      <td>1518.000000</td>\n",
              "      <td>1600.000000</td>\n",
              "      <td>1493.849976</td>\n",
              "      <td>1576.500000</td>\n",
              "      <td>1547.430054</td>\n",
              "      <td>28890</td>\n",
              "      <td>2757</td>\n",
              "      <td>44705265</td>\n",
              "      <td>17745</td>\n",
              "      <td>61.419998</td>\n",
              "      <td>106.150002</td>\n",
              "      <td>58.500000</td>\n",
              "      <td>500002</td>\n",
              "    </tr>\n",
              "    <tr>\n",
              "      <th>8</th>\n",
              "      <td>23/06/21</td>\n",
              "      <td>1764.500000</td>\n",
              "      <td>1850.000000</td>\n",
              "      <td>1736.849976</td>\n",
              "      <td>1810.750000</td>\n",
              "      <td>1813.270020</td>\n",
              "      <td>62282</td>\n",
              "      <td>6996</td>\n",
              "      <td>112934006</td>\n",
              "      <td>21760</td>\n",
              "      <td>34.939999</td>\n",
              "      <td>113.150002</td>\n",
              "      <td>46.250000</td>\n",
              "      <td>500002</td>\n",
              "    </tr>\n",
              "  </tbody>\n",
              "</table>\n",
              "<p>1500 rows × 14 columns</p>\n",
              "</div>"
            ],
            "text/plain": [
              "        Date          Open          High  ...         H-L         C-O  StockCode\n",
              "28  26/05/21  11425.000000  11974.150391  ...  562.150024  482.750000     532978\n",
              "10  21/06/21  11721.000000  12202.950195  ...  481.950012  440.700012     532978\n",
              "21   4/06/21  11775.000000  12189.000000  ...  414.000000  377.399994     532978\n",
              "11  18/06/21   4046.550049   4192.000000  ...  161.600006  118.400002     532977\n",
              "2    1/07/21   4140.000000   4250.000000  ...  110.000000   65.599998     532977\n",
              "..       ...           ...           ...  ...         ...         ...        ...\n",
              "25  31/05/21    339.000000    360.500000  ...   21.500000   19.650000     500003\n",
              "30  24/05/21    332.450012    355.000000  ...   22.549999   16.450001     500003\n",
              "25  31/05/21   1599.000000   1730.000000  ...  131.000000   68.900002     500002\n",
              "27  27/05/21   1518.000000   1600.000000  ...  106.150002   58.500000     500002\n",
              "8   23/06/21   1764.500000   1850.000000  ...  113.150002   46.250000     500002\n",
              "\n",
              "[1500 rows x 14 columns]"
            ]
          },
          "metadata": {
            "tags": []
          },
          "execution_count": 59
        }
      ]
    },
    {
      "cell_type": "code",
      "metadata": {
        "colab": {
          "base_uri": "https://localhost:8080/",
          "height": 80
        },
        "id": "pqnLeb4OS9op",
        "outputId": "135264a3-e75f-46a4-efdc-f18e85711044"
      },
      "source": [
        "activeStocks[activeStocks['Security Code']==500148]"
      ],
      "execution_count": 50,
      "outputs": [
        {
          "output_type": "execute_result",
          "data": {
            "text/html": [
              "<div>\n",
              "<style scoped>\n",
              "    .dataframe tbody tr th:only-of-type {\n",
              "        vertical-align: middle;\n",
              "    }\n",
              "\n",
              "    .dataframe tbody tr th {\n",
              "        vertical-align: top;\n",
              "    }\n",
              "\n",
              "    .dataframe thead th {\n",
              "        text-align: right;\n",
              "    }\n",
              "</style>\n",
              "<table border=\"1\" class=\"dataframe\">\n",
              "  <thead>\n",
              "    <tr style=\"text-align: right;\">\n",
              "      <th></th>\n",
              "      <th>Security Code</th>\n",
              "      <th>Security Id</th>\n",
              "      <th>Security Name</th>\n",
              "      <th>Status</th>\n",
              "      <th>Group</th>\n",
              "      <th>Face Value</th>\n",
              "      <th>ISIN No</th>\n",
              "      <th>Industry</th>\n",
              "      <th>Instrument</th>\n",
              "    </tr>\n",
              "  </thead>\n",
              "  <tbody>\n",
              "    <tr>\n",
              "      <th>72</th>\n",
              "      <td>500148</td>\n",
              "      <td>UFLEX</td>\n",
              "      <td>UFLEX LTD.</td>\n",
              "      <td>Active</td>\n",
              "      <td>A</td>\n",
              "      <td>10.00</td>\n",
              "      <td>INE516A01017</td>\n",
              "      <td>Containers &amp; Packaging</td>\n",
              "      <td>Equity</td>\n",
              "    </tr>\n",
              "  </tbody>\n",
              "</table>\n",
              "</div>"
            ],
            "text/plain": [
              "    Security Code Security Id  ...                Industry Instrument\n",
              "72         500148       UFLEX  ...  Containers & Packaging     Equity\n",
              "\n",
              "[1 rows x 9 columns]"
            ]
          },
          "metadata": {
            "tags": []
          },
          "execution_count": 50
        }
      ]
    },
    {
      "cell_type": "code",
      "metadata": {
        "id": "5GuO06oqkzNP"
      },
      "source": [
        ""
      ],
      "execution_count": null,
      "outputs": []
    }
  ]
}