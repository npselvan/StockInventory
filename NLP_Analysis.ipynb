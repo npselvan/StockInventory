{
  "nbformat": 4,
  "nbformat_minor": 0,
  "metadata": {
    "colab": {
      "name": "NLP_Analysis.ipynb",
      "provenance": [],
      "collapsed_sections": [],
      "authorship_tag": "ABX9TyMdF5QfXxHE8tiM1QPHFuf9",
      "include_colab_link": true
    },
    "kernelspec": {
      "name": "python3",
      "display_name": "Python 3"
    },
    "language_info": {
      "name": "python"
    }
  },
  "cells": [
    {
      "cell_type": "markdown",
      "metadata": {
        "id": "view-in-github",
        "colab_type": "text"
      },
      "source": [
        "<a href=\"https://colab.research.google.com/github/npselvan/StockInventory/blob/stockphase1/NLP_Analysis.ipynb\" target=\"_parent\"><img src=\"https://colab.research.google.com/assets/colab-badge.svg\" alt=\"Open In Colab\"/></a>"
      ]
    },
    {
      "cell_type": "code",
      "metadata": {
        "id": "DC7Yc_k6r67e"
      },
      "source": [
        "import warnings\n",
        "warnings.filterwarnings('ignore')\n",
        "import pandas as pd\n",
        "import numpy as np\n",
        "import matplotlib.pyplot as plt\n",
        "import seaborn as sns\n",
        "plt.rcParams.update({'font.size':'10'})"
      ],
      "execution_count": 1,
      "outputs": []
    },
    {
      "cell_type": "code",
      "metadata": {
        "colab": {
          "base_uri": "https://localhost:8080/"
        },
        "id": "zuAvA4TBtARM",
        "outputId": "ffe6ee9f-5ca1-42cd-f8bd-9da535a88e07"
      },
      "source": [
        "from google.colab import drive\n",
        "drive.mount('/content/drive')"
      ],
      "execution_count": 2,
      "outputs": [
        {
          "output_type": "stream",
          "text": [
            "Drive already mounted at /content/drive; to attempt to forcibly remount, call drive.mount(\"/content/drive\", force_remount=True).\n"
          ],
          "name": "stdout"
        }
      ]
    },
    {
      "cell_type": "code",
      "metadata": {
        "id": "9jUI-KVut47V"
      },
      "source": [
        "data=pd.read_csv('/content/drive/MyDrive/Tweets.csv')"
      ],
      "execution_count": 3,
      "outputs": []
    },
    {
      "cell_type": "code",
      "metadata": {
        "colab": {
          "base_uri": "https://localhost:8080/",
          "height": 448
        },
        "id": "5VSM8dVRuD4I",
        "outputId": "3104613b-f494-42b5-b77e-c3379d29bd2a"
      },
      "source": [
        "data.head()"
      ],
      "execution_count": 5,
      "outputs": [
        {
          "output_type": "execute_result",
          "data": {
            "text/html": [
              "<div>\n",
              "<style scoped>\n",
              "    .dataframe tbody tr th:only-of-type {\n",
              "        vertical-align: middle;\n",
              "    }\n",
              "\n",
              "    .dataframe tbody tr th {\n",
              "        vertical-align: top;\n",
              "    }\n",
              "\n",
              "    .dataframe thead th {\n",
              "        text-align: right;\n",
              "    }\n",
              "</style>\n",
              "<table border=\"1\" class=\"dataframe\">\n",
              "  <thead>\n",
              "    <tr style=\"text-align: right;\">\n",
              "      <th></th>\n",
              "      <th>tweet_id</th>\n",
              "      <th>airline_sentiment</th>\n",
              "      <th>airline_sentiment_confidence</th>\n",
              "      <th>negativereason</th>\n",
              "      <th>negativereason_confidence</th>\n",
              "      <th>airline</th>\n",
              "      <th>airline_sentiment_gold</th>\n",
              "      <th>name</th>\n",
              "      <th>negativereason_gold</th>\n",
              "      <th>retweet_count</th>\n",
              "      <th>text</th>\n",
              "      <th>tweet_coord</th>\n",
              "      <th>tweet_created</th>\n",
              "      <th>tweet_location</th>\n",
              "      <th>user_timezone</th>\n",
              "    </tr>\n",
              "  </thead>\n",
              "  <tbody>\n",
              "    <tr>\n",
              "      <th>0</th>\n",
              "      <td>570306133677760513</td>\n",
              "      <td>neutral</td>\n",
              "      <td>1.0000</td>\n",
              "      <td>NaN</td>\n",
              "      <td>NaN</td>\n",
              "      <td>Virgin America</td>\n",
              "      <td>NaN</td>\n",
              "      <td>cairdin</td>\n",
              "      <td>NaN</td>\n",
              "      <td>0</td>\n",
              "      <td>@VirginAmerica What @dhepburn said.</td>\n",
              "      <td>NaN</td>\n",
              "      <td>2015-02-24 11:35:52 -0800</td>\n",
              "      <td>NaN</td>\n",
              "      <td>Eastern Time (US &amp; Canada)</td>\n",
              "    </tr>\n",
              "    <tr>\n",
              "      <th>1</th>\n",
              "      <td>570301130888122368</td>\n",
              "      <td>positive</td>\n",
              "      <td>0.3486</td>\n",
              "      <td>NaN</td>\n",
              "      <td>0.0000</td>\n",
              "      <td>Virgin America</td>\n",
              "      <td>NaN</td>\n",
              "      <td>jnardino</td>\n",
              "      <td>NaN</td>\n",
              "      <td>0</td>\n",
              "      <td>@VirginAmerica plus you've added commercials t...</td>\n",
              "      <td>NaN</td>\n",
              "      <td>2015-02-24 11:15:59 -0800</td>\n",
              "      <td>NaN</td>\n",
              "      <td>Pacific Time (US &amp; Canada)</td>\n",
              "    </tr>\n",
              "    <tr>\n",
              "      <th>2</th>\n",
              "      <td>570301083672813571</td>\n",
              "      <td>neutral</td>\n",
              "      <td>0.6837</td>\n",
              "      <td>NaN</td>\n",
              "      <td>NaN</td>\n",
              "      <td>Virgin America</td>\n",
              "      <td>NaN</td>\n",
              "      <td>yvonnalynn</td>\n",
              "      <td>NaN</td>\n",
              "      <td>0</td>\n",
              "      <td>@VirginAmerica I didn't today... Must mean I n...</td>\n",
              "      <td>NaN</td>\n",
              "      <td>2015-02-24 11:15:48 -0800</td>\n",
              "      <td>Lets Play</td>\n",
              "      <td>Central Time (US &amp; Canada)</td>\n",
              "    </tr>\n",
              "    <tr>\n",
              "      <th>3</th>\n",
              "      <td>570301031407624196</td>\n",
              "      <td>negative</td>\n",
              "      <td>1.0000</td>\n",
              "      <td>Bad Flight</td>\n",
              "      <td>0.7033</td>\n",
              "      <td>Virgin America</td>\n",
              "      <td>NaN</td>\n",
              "      <td>jnardino</td>\n",
              "      <td>NaN</td>\n",
              "      <td>0</td>\n",
              "      <td>@VirginAmerica it's really aggressive to blast...</td>\n",
              "      <td>NaN</td>\n",
              "      <td>2015-02-24 11:15:36 -0800</td>\n",
              "      <td>NaN</td>\n",
              "      <td>Pacific Time (US &amp; Canada)</td>\n",
              "    </tr>\n",
              "    <tr>\n",
              "      <th>4</th>\n",
              "      <td>570300817074462722</td>\n",
              "      <td>negative</td>\n",
              "      <td>1.0000</td>\n",
              "      <td>Can't Tell</td>\n",
              "      <td>1.0000</td>\n",
              "      <td>Virgin America</td>\n",
              "      <td>NaN</td>\n",
              "      <td>jnardino</td>\n",
              "      <td>NaN</td>\n",
              "      <td>0</td>\n",
              "      <td>@VirginAmerica and it's a really big bad thing...</td>\n",
              "      <td>NaN</td>\n",
              "      <td>2015-02-24 11:14:45 -0800</td>\n",
              "      <td>NaN</td>\n",
              "      <td>Pacific Time (US &amp; Canada)</td>\n",
              "    </tr>\n",
              "  </tbody>\n",
              "</table>\n",
              "</div>"
            ],
            "text/plain": [
              "             tweet_id  ...               user_timezone\n",
              "0  570306133677760513  ...  Eastern Time (US & Canada)\n",
              "1  570301130888122368  ...  Pacific Time (US & Canada)\n",
              "2  570301083672813571  ...  Central Time (US & Canada)\n",
              "3  570301031407624196  ...  Pacific Time (US & Canada)\n",
              "4  570300817074462722  ...  Pacific Time (US & Canada)\n",
              "\n",
              "[5 rows x 15 columns]"
            ]
          },
          "metadata": {
            "tags": []
          },
          "execution_count": 5
        }
      ]
    },
    {
      "cell_type": "code",
      "metadata": {
        "colab": {
          "base_uri": "https://localhost:8080/"
        },
        "id": "nKz2EPUPun02",
        "outputId": "3a598c78-4d45-47ea-d3b2-5627969cef63"
      },
      "source": [
        "data.shape"
      ],
      "execution_count": 6,
      "outputs": [
        {
          "output_type": "execute_result",
          "data": {
            "text/plain": [
              "(14640, 15)"
            ]
          },
          "metadata": {
            "tags": []
          },
          "execution_count": 6
        }
      ]
    },
    {
      "cell_type": "code",
      "metadata": {
        "colab": {
          "base_uri": "https://localhost:8080/"
        },
        "id": "cgv27MaWuqJ-",
        "outputId": "9da24503-9eb1-4114-bc71-5ead2a90daf2"
      },
      "source": [
        "data.info()"
      ],
      "execution_count": 7,
      "outputs": [
        {
          "output_type": "stream",
          "text": [
            "<class 'pandas.core.frame.DataFrame'>\n",
            "RangeIndex: 14640 entries, 0 to 14639\n",
            "Data columns (total 15 columns):\n",
            " #   Column                        Non-Null Count  Dtype  \n",
            "---  ------                        --------------  -----  \n",
            " 0   tweet_id                      14640 non-null  int64  \n",
            " 1   airline_sentiment             14640 non-null  object \n",
            " 2   airline_sentiment_confidence  14640 non-null  float64\n",
            " 3   negativereason                9178 non-null   object \n",
            " 4   negativereason_confidence     10522 non-null  float64\n",
            " 5   airline                       14640 non-null  object \n",
            " 6   airline_sentiment_gold        40 non-null     object \n",
            " 7   name                          14640 non-null  object \n",
            " 8   negativereason_gold           32 non-null     object \n",
            " 9   retweet_count                 14640 non-null  int64  \n",
            " 10  text                          14640 non-null  object \n",
            " 11  tweet_coord                   1019 non-null   object \n",
            " 12  tweet_created                 14640 non-null  object \n",
            " 13  tweet_location                9907 non-null   object \n",
            " 14  user_timezone                 9820 non-null   object \n",
            "dtypes: float64(2), int64(2), object(11)\n",
            "memory usage: 1.7+ MB\n"
          ],
          "name": "stdout"
        }
      ]
    },
    {
      "cell_type": "code",
      "metadata": {
        "colab": {
          "base_uri": "https://localhost:8080/",
          "height": 691
        },
        "id": "tIHPHy2yut5o",
        "outputId": "213cd44e-9e14-4f15-f9ea-af7a800e1f10"
      },
      "source": [
        "data.describe(include='all').T"
      ],
      "execution_count": 8,
      "outputs": [
        {
          "output_type": "execute_result",
          "data": {
            "text/html": [
              "<div>\n",
              "<style scoped>\n",
              "    .dataframe tbody tr th:only-of-type {\n",
              "        vertical-align: middle;\n",
              "    }\n",
              "\n",
              "    .dataframe tbody tr th {\n",
              "        vertical-align: top;\n",
              "    }\n",
              "\n",
              "    .dataframe thead th {\n",
              "        text-align: right;\n",
              "    }\n",
              "</style>\n",
              "<table border=\"1\" class=\"dataframe\">\n",
              "  <thead>\n",
              "    <tr style=\"text-align: right;\">\n",
              "      <th></th>\n",
              "      <th>count</th>\n",
              "      <th>unique</th>\n",
              "      <th>top</th>\n",
              "      <th>freq</th>\n",
              "      <th>mean</th>\n",
              "      <th>std</th>\n",
              "      <th>min</th>\n",
              "      <th>25%</th>\n",
              "      <th>50%</th>\n",
              "      <th>75%</th>\n",
              "      <th>max</th>\n",
              "    </tr>\n",
              "  </thead>\n",
              "  <tbody>\n",
              "    <tr>\n",
              "      <th>tweet_id</th>\n",
              "      <td>14640</td>\n",
              "      <td>NaN</td>\n",
              "      <td>NaN</td>\n",
              "      <td>NaN</td>\n",
              "      <td>5.69218e+17</td>\n",
              "      <td>7.79111e+14</td>\n",
              "      <td>5.67588e+17</td>\n",
              "      <td>5.68559e+17</td>\n",
              "      <td>5.69478e+17</td>\n",
              "      <td>5.6989e+17</td>\n",
              "      <td>5.70311e+17</td>\n",
              "    </tr>\n",
              "    <tr>\n",
              "      <th>airline_sentiment</th>\n",
              "      <td>14640</td>\n",
              "      <td>3</td>\n",
              "      <td>negative</td>\n",
              "      <td>9178</td>\n",
              "      <td>NaN</td>\n",
              "      <td>NaN</td>\n",
              "      <td>NaN</td>\n",
              "      <td>NaN</td>\n",
              "      <td>NaN</td>\n",
              "      <td>NaN</td>\n",
              "      <td>NaN</td>\n",
              "    </tr>\n",
              "    <tr>\n",
              "      <th>airline_sentiment_confidence</th>\n",
              "      <td>14640</td>\n",
              "      <td>NaN</td>\n",
              "      <td>NaN</td>\n",
              "      <td>NaN</td>\n",
              "      <td>0.900169</td>\n",
              "      <td>0.16283</td>\n",
              "      <td>0.335</td>\n",
              "      <td>0.6923</td>\n",
              "      <td>1</td>\n",
              "      <td>1</td>\n",
              "      <td>1</td>\n",
              "    </tr>\n",
              "    <tr>\n",
              "      <th>negativereason</th>\n",
              "      <td>9178</td>\n",
              "      <td>10</td>\n",
              "      <td>Customer Service Issue</td>\n",
              "      <td>2910</td>\n",
              "      <td>NaN</td>\n",
              "      <td>NaN</td>\n",
              "      <td>NaN</td>\n",
              "      <td>NaN</td>\n",
              "      <td>NaN</td>\n",
              "      <td>NaN</td>\n",
              "      <td>NaN</td>\n",
              "    </tr>\n",
              "    <tr>\n",
              "      <th>negativereason_confidence</th>\n",
              "      <td>10522</td>\n",
              "      <td>NaN</td>\n",
              "      <td>NaN</td>\n",
              "      <td>NaN</td>\n",
              "      <td>0.638298</td>\n",
              "      <td>0.33044</td>\n",
              "      <td>0</td>\n",
              "      <td>0.3606</td>\n",
              "      <td>0.6706</td>\n",
              "      <td>1</td>\n",
              "      <td>1</td>\n",
              "    </tr>\n",
              "    <tr>\n",
              "      <th>airline</th>\n",
              "      <td>14640</td>\n",
              "      <td>6</td>\n",
              "      <td>United</td>\n",
              "      <td>3822</td>\n",
              "      <td>NaN</td>\n",
              "      <td>NaN</td>\n",
              "      <td>NaN</td>\n",
              "      <td>NaN</td>\n",
              "      <td>NaN</td>\n",
              "      <td>NaN</td>\n",
              "      <td>NaN</td>\n",
              "    </tr>\n",
              "    <tr>\n",
              "      <th>airline_sentiment_gold</th>\n",
              "      <td>40</td>\n",
              "      <td>3</td>\n",
              "      <td>negative</td>\n",
              "      <td>32</td>\n",
              "      <td>NaN</td>\n",
              "      <td>NaN</td>\n",
              "      <td>NaN</td>\n",
              "      <td>NaN</td>\n",
              "      <td>NaN</td>\n",
              "      <td>NaN</td>\n",
              "      <td>NaN</td>\n",
              "    </tr>\n",
              "    <tr>\n",
              "      <th>name</th>\n",
              "      <td>14640</td>\n",
              "      <td>7701</td>\n",
              "      <td>JetBlueNews</td>\n",
              "      <td>63</td>\n",
              "      <td>NaN</td>\n",
              "      <td>NaN</td>\n",
              "      <td>NaN</td>\n",
              "      <td>NaN</td>\n",
              "      <td>NaN</td>\n",
              "      <td>NaN</td>\n",
              "      <td>NaN</td>\n",
              "    </tr>\n",
              "    <tr>\n",
              "      <th>negativereason_gold</th>\n",
              "      <td>32</td>\n",
              "      <td>13</td>\n",
              "      <td>Customer Service Issue</td>\n",
              "      <td>12</td>\n",
              "      <td>NaN</td>\n",
              "      <td>NaN</td>\n",
              "      <td>NaN</td>\n",
              "      <td>NaN</td>\n",
              "      <td>NaN</td>\n",
              "      <td>NaN</td>\n",
              "      <td>NaN</td>\n",
              "    </tr>\n",
              "    <tr>\n",
              "      <th>retweet_count</th>\n",
              "      <td>14640</td>\n",
              "      <td>NaN</td>\n",
              "      <td>NaN</td>\n",
              "      <td>NaN</td>\n",
              "      <td>0.0826503</td>\n",
              "      <td>0.745778</td>\n",
              "      <td>0</td>\n",
              "      <td>0</td>\n",
              "      <td>0</td>\n",
              "      <td>0</td>\n",
              "      <td>44</td>\n",
              "    </tr>\n",
              "    <tr>\n",
              "      <th>text</th>\n",
              "      <td>14640</td>\n",
              "      <td>14427</td>\n",
              "      <td>@united thanks</td>\n",
              "      <td>6</td>\n",
              "      <td>NaN</td>\n",
              "      <td>NaN</td>\n",
              "      <td>NaN</td>\n",
              "      <td>NaN</td>\n",
              "      <td>NaN</td>\n",
              "      <td>NaN</td>\n",
              "      <td>NaN</td>\n",
              "    </tr>\n",
              "    <tr>\n",
              "      <th>tweet_coord</th>\n",
              "      <td>1019</td>\n",
              "      <td>832</td>\n",
              "      <td>[0.0, 0.0]</td>\n",
              "      <td>164</td>\n",
              "      <td>NaN</td>\n",
              "      <td>NaN</td>\n",
              "      <td>NaN</td>\n",
              "      <td>NaN</td>\n",
              "      <td>NaN</td>\n",
              "      <td>NaN</td>\n",
              "      <td>NaN</td>\n",
              "    </tr>\n",
              "    <tr>\n",
              "      <th>tweet_created</th>\n",
              "      <td>14640</td>\n",
              "      <td>14247</td>\n",
              "      <td>2015-02-24 09:54:34 -0800</td>\n",
              "      <td>5</td>\n",
              "      <td>NaN</td>\n",
              "      <td>NaN</td>\n",
              "      <td>NaN</td>\n",
              "      <td>NaN</td>\n",
              "      <td>NaN</td>\n",
              "      <td>NaN</td>\n",
              "      <td>NaN</td>\n",
              "    </tr>\n",
              "    <tr>\n",
              "      <th>tweet_location</th>\n",
              "      <td>9907</td>\n",
              "      <td>3081</td>\n",
              "      <td>Boston, MA</td>\n",
              "      <td>157</td>\n",
              "      <td>NaN</td>\n",
              "      <td>NaN</td>\n",
              "      <td>NaN</td>\n",
              "      <td>NaN</td>\n",
              "      <td>NaN</td>\n",
              "      <td>NaN</td>\n",
              "      <td>NaN</td>\n",
              "    </tr>\n",
              "    <tr>\n",
              "      <th>user_timezone</th>\n",
              "      <td>9820</td>\n",
              "      <td>85</td>\n",
              "      <td>Eastern Time (US &amp; Canada)</td>\n",
              "      <td>3744</td>\n",
              "      <td>NaN</td>\n",
              "      <td>NaN</td>\n",
              "      <td>NaN</td>\n",
              "      <td>NaN</td>\n",
              "      <td>NaN</td>\n",
              "      <td>NaN</td>\n",
              "      <td>NaN</td>\n",
              "    </tr>\n",
              "  </tbody>\n",
              "</table>\n",
              "</div>"
            ],
            "text/plain": [
              "                              count unique  ...         75%          max\n",
              "tweet_id                      14640    NaN  ...  5.6989e+17  5.70311e+17\n",
              "airline_sentiment             14640      3  ...         NaN          NaN\n",
              "airline_sentiment_confidence  14640    NaN  ...           1            1\n",
              "negativereason                 9178     10  ...         NaN          NaN\n",
              "negativereason_confidence     10522    NaN  ...           1            1\n",
              "airline                       14640      6  ...         NaN          NaN\n",
              "airline_sentiment_gold           40      3  ...         NaN          NaN\n",
              "name                          14640   7701  ...         NaN          NaN\n",
              "negativereason_gold              32     13  ...         NaN          NaN\n",
              "retweet_count                 14640    NaN  ...           0           44\n",
              "text                          14640  14427  ...         NaN          NaN\n",
              "tweet_coord                    1019    832  ...         NaN          NaN\n",
              "tweet_created                 14640  14247  ...         NaN          NaN\n",
              "tweet_location                 9907   3081  ...         NaN          NaN\n",
              "user_timezone                  9820     85  ...         NaN          NaN\n",
              "\n",
              "[15 rows x 11 columns]"
            ]
          },
          "metadata": {
            "tags": []
          },
          "execution_count": 8
        }
      ]
    },
    {
      "cell_type": "code",
      "metadata": {
        "id": "UXRecBH6u5le"
      },
      "source": [
        "df=data.copy()"
      ],
      "execution_count": 9,
      "outputs": []
    },
    {
      "cell_type": "code",
      "metadata": {
        "colab": {
          "base_uri": "https://localhost:8080/"
        },
        "id": "_iYf9MYwu71G",
        "outputId": "63d96c2f-3b76-47fe-9226-449e45237000"
      },
      "source": [
        "df.columns"
      ],
      "execution_count": 10,
      "outputs": [
        {
          "output_type": "execute_result",
          "data": {
            "text/plain": [
              "Index(['tweet_id', 'airline_sentiment', 'airline_sentiment_confidence',\n",
              "       'negativereason', 'negativereason_confidence', 'airline',\n",
              "       'airline_sentiment_gold', 'name', 'negativereason_gold',\n",
              "       'retweet_count', 'text', 'tweet_coord', 'tweet_created',\n",
              "       'tweet_location', 'user_timezone'],\n",
              "      dtype='object')"
            ]
          },
          "metadata": {
            "tags": []
          },
          "execution_count": 10
        }
      ]
    },
    {
      "cell_type": "code",
      "metadata": {
        "id": "aGEtijBiu_jm"
      },
      "source": [
        "df.drop(columns=['tweet_id', 'airline_sentiment_confidence',\n",
        "       'negativereason', 'negativereason_confidence', 'airline',\n",
        "       'airline_sentiment_gold', 'name', 'negativereason_gold',\n",
        "       'retweet_count', 'tweet_coord', 'tweet_created',\n",
        "       'tweet_location', 'user_timezone'], axis=1, inplace=True)"
      ],
      "execution_count": 11,
      "outputs": []
    },
    {
      "cell_type": "code",
      "metadata": {
        "colab": {
          "base_uri": "https://localhost:8080/"
        },
        "id": "KH55yUY7vRPU",
        "outputId": "20686fb9-5c00-4aa0-fa2f-e2c803683cb4"
      },
      "source": [
        "df.columns"
      ],
      "execution_count": 12,
      "outputs": [
        {
          "output_type": "execute_result",
          "data": {
            "text/plain": [
              "Index(['airline_sentiment', 'text'], dtype='object')"
            ]
          },
          "metadata": {
            "tags": []
          },
          "execution_count": 12
        }
      ]
    },
    {
      "cell_type": "code",
      "metadata": {
        "colab": {
          "base_uri": "https://localhost:8080/"
        },
        "id": "h_uWw2VlvTyg",
        "outputId": "ece9da66-5c67-41b9-9236-cd5627d4e81e"
      },
      "source": [
        "df.isnull().sum()"
      ],
      "execution_count": 13,
      "outputs": [
        {
          "output_type": "execute_result",
          "data": {
            "text/plain": [
              "airline_sentiment    0\n",
              "text                 0\n",
              "dtype: int64"
            ]
          },
          "metadata": {
            "tags": []
          },
          "execution_count": 13
        }
      ]
    },
    {
      "cell_type": "code",
      "metadata": {
        "colab": {
          "base_uri": "https://localhost:8080/",
          "height": 205
        },
        "id": "ZNusWjknvd3f",
        "outputId": "f60e48f8-484a-4cd6-cfcf-4460d8794839"
      },
      "source": [
        "df.head()"
      ],
      "execution_count": 14,
      "outputs": [
        {
          "output_type": "execute_result",
          "data": {
            "text/html": [
              "<div>\n",
              "<style scoped>\n",
              "    .dataframe tbody tr th:only-of-type {\n",
              "        vertical-align: middle;\n",
              "    }\n",
              "\n",
              "    .dataframe tbody tr th {\n",
              "        vertical-align: top;\n",
              "    }\n",
              "\n",
              "    .dataframe thead th {\n",
              "        text-align: right;\n",
              "    }\n",
              "</style>\n",
              "<table border=\"1\" class=\"dataframe\">\n",
              "  <thead>\n",
              "    <tr style=\"text-align: right;\">\n",
              "      <th></th>\n",
              "      <th>airline_sentiment</th>\n",
              "      <th>text</th>\n",
              "    </tr>\n",
              "  </thead>\n",
              "  <tbody>\n",
              "    <tr>\n",
              "      <th>0</th>\n",
              "      <td>neutral</td>\n",
              "      <td>@VirginAmerica What @dhepburn said.</td>\n",
              "    </tr>\n",
              "    <tr>\n",
              "      <th>1</th>\n",
              "      <td>positive</td>\n",
              "      <td>@VirginAmerica plus you've added commercials t...</td>\n",
              "    </tr>\n",
              "    <tr>\n",
              "      <th>2</th>\n",
              "      <td>neutral</td>\n",
              "      <td>@VirginAmerica I didn't today... Must mean I n...</td>\n",
              "    </tr>\n",
              "    <tr>\n",
              "      <th>3</th>\n",
              "      <td>negative</td>\n",
              "      <td>@VirginAmerica it's really aggressive to blast...</td>\n",
              "    </tr>\n",
              "    <tr>\n",
              "      <th>4</th>\n",
              "      <td>negative</td>\n",
              "      <td>@VirginAmerica and it's a really big bad thing...</td>\n",
              "    </tr>\n",
              "  </tbody>\n",
              "</table>\n",
              "</div>"
            ],
            "text/plain": [
              "  airline_sentiment                                               text\n",
              "0           neutral                @VirginAmerica What @dhepburn said.\n",
              "1          positive  @VirginAmerica plus you've added commercials t...\n",
              "2           neutral  @VirginAmerica I didn't today... Must mean I n...\n",
              "3          negative  @VirginAmerica it's really aggressive to blast...\n",
              "4          negative  @VirginAmerica and it's a really big bad thing..."
            ]
          },
          "metadata": {
            "tags": []
          },
          "execution_count": 14
        }
      ]
    },
    {
      "cell_type": "code",
      "metadata": {
        "colab": {
          "base_uri": "https://localhost:8080/"
        },
        "id": "uptSIHw5w9rK",
        "outputId": "45185ba0-b4c1-4081-9994-93c707c2e4b4"
      },
      "source": [
        "df.shape"
      ],
      "execution_count": 15,
      "outputs": [
        {
          "output_type": "execute_result",
          "data": {
            "text/plain": [
              "(14640, 2)"
            ]
          },
          "metadata": {
            "tags": []
          },
          "execution_count": 15
        }
      ]
    },
    {
      "cell_type": "code",
      "metadata": {
        "colab": {
          "base_uri": "https://localhost:8080/"
        },
        "id": "SFKEBj9pxaOB",
        "outputId": "00cd71f6-62bc-4c9e-bf69-d5d7cd3f814e"
      },
      "source": [
        "df['airline_sentiment'].value_counts()"
      ],
      "execution_count": 16,
      "outputs": [
        {
          "output_type": "execute_result",
          "data": {
            "text/plain": [
              "negative    9178\n",
              "neutral     3099\n",
              "positive    2363\n",
              "Name: airline_sentiment, dtype: int64"
            ]
          },
          "metadata": {
            "tags": []
          },
          "execution_count": 16
        }
      ]
    },
    {
      "cell_type": "code",
      "metadata": {
        "colab": {
          "base_uri": "https://localhost:8080/"
        },
        "id": "bxZnFJiMzIzg",
        "outputId": "73ff3f08-7ef5-4c32-a6b9-9eb16dd6ace6"
      },
      "source": [
        "df['text'].nunique()"
      ],
      "execution_count": 17,
      "outputs": [
        {
          "output_type": "execute_result",
          "data": {
            "text/plain": [
              "14427"
            ]
          },
          "metadata": {
            "tags": []
          },
          "execution_count": 17
        }
      ]
    },
    {
      "cell_type": "code",
      "metadata": {
        "id": "9w16AKTAn5mk"
      },
      "source": [
        "df.drop_duplicates(inplace=True)"
      ],
      "execution_count": 18,
      "outputs": []
    },
    {
      "cell_type": "code",
      "metadata": {
        "colab": {
          "base_uri": "https://localhost:8080/"
        },
        "id": "aswnjdFbn_B6",
        "outputId": "c67dbe9f-6b83-4896-d7f2-1776382f811d"
      },
      "source": [
        "df.airline_sentiment.value_counts()"
      ],
      "execution_count": 19,
      "outputs": [
        {
          "output_type": "execute_result",
          "data": {
            "text/plain": [
              "negative    9087\n",
              "neutral     3067\n",
              "positive    2298\n",
              "Name: airline_sentiment, dtype: int64"
            ]
          },
          "metadata": {
            "tags": []
          },
          "execution_count": 19
        }
      ]
    },
    {
      "cell_type": "code",
      "metadata": {
        "id": "rA_tZRzizW3Z"
      },
      "source": [
        "import re\n",
        "import nltk"
      ],
      "execution_count": 20,
      "outputs": []
    },
    {
      "cell_type": "code",
      "metadata": {
        "colab": {
          "base_uri": "https://localhost:8080/",
          "height": 265
        },
        "id": "PAPUiKU11G6_",
        "outputId": "c5758f42-3d46-4a8a-da59-01d08cdfa118"
      },
      "source": [
        "df.airline_sentiment.value_counts().plot(kind='pie', autopct='%1.2f%%')"
      ],
      "execution_count": 21,
      "outputs": [
        {
          "output_type": "execute_result",
          "data": {
            "text/plain": [
              "<matplotlib.axes._subplots.AxesSubplot at 0x7efd6df23790>"
            ]
          },
          "metadata": {
            "tags": []
          },
          "execution_count": 21
        },
        {
          "output_type": "display_data",
          "data": {
            "image/png": "[encoded data removed]",
            "text/plain": [
              "<Figure size 432x288 with 1 Axes>"
            ]
          },
          "metadata": {
            "tags": []
          }
        }
      ]
    },
    {
      "cell_type": "markdown",
      "metadata": {
        "id": "WS9UyGjz2hxW"
      },
      "source": [
        "The tweet reflect close to 2 in 3 passengers are unhappy with the Airline Service. Only 16% of the Passengers are happy with the Airlines. 21% of the people expressed neutral airline services. "
      ]
    },
    {
      "cell_type": "code",
      "metadata": {
        "colab": {
          "base_uri": "https://localhost:8080/",
          "height": 360
        },
        "id": "NbL8pD9n2645",
        "outputId": "0ad7d0ef-28b5-46bd-f771-fb04dd71d1f8"
      },
      "source": [
        "df2=data.groupby(['airline','airline_sentiment']).airline_sentiment.count().unstack()\n",
        "df2.plot(kind='bar')"
      ],
      "execution_count": 22,
      "outputs": [
        {
          "output_type": "execute_result",
          "data": {
            "text/plain": [
              "<matplotlib.axes._subplots.AxesSubplot at 0x7efd6de6b4d0>"
            ]
          },
          "metadata": {
            "tags": []
          },
          "execution_count": 22
        },
        {
          "output_type": "display_data",
          "data": {
            "image/png": "[encoded data removed]",
            "text/plain": [
              "<Figure size 432x288 with 1 Axes>"
            ]
          },
          "metadata": {
            "tags": [],
            "needs_background": "light"
          }
        }
      ]
    },
    {
      "cell_type": "markdown",
      "metadata": {
        "id": "hklxiBM9ohK-"
      },
      "source": [
        "**Removing HTML Text**"
      ]
    },
    {
      "cell_type": "code",
      "metadata": {
        "id": "e3qQuLco90am"
      },
      "source": [
        "from bs4 import BeautifulSoup\n",
        "df3=df.copy()\n",
        "df3['text'] = [BeautifulSoup(txt).get_text() for txt in df3['text']]"
      ],
      "execution_count": 29,
      "outputs": []
    },
    {
      "cell_type": "code",
      "metadata": {
        "colab": {
          "base_uri": "https://localhost:8080/",
          "height": 35
        },
        "id": "lMmIu2beAvlk",
        "outputId": "a9077440-309f-44fd-8e4c-ccb0c801924f"
      },
      "source": [
        "ahtml= '<html><head><body><h2>Welcome to BeautifulSoup Programming</h2></body></head></html>'\n",
        "BeautifulSoup(ahtml).get_text()"
      ],
      "execution_count": 30,
      "outputs": [
        {
          "output_type": "execute_result",
          "data": {
            "application/vnd.google.colaboratory.intrinsic+json": {
              "type": "string"
            },
            "text/plain": [
              "'Welcome to BeautifulSoup Programming'"
            ]
          },
          "metadata": {
            "tags": []
          },
          "execution_count": 30
        }
      ]
    },
    {
      "cell_type": "code",
      "metadata": {
        "colab": {
          "base_uri": "https://localhost:8080/",
          "height": 205
        },
        "id": "RjsFhdmVAXGv",
        "outputId": "38795074-3e3a-4428-fd96-302aa736cb7c"
      },
      "source": [
        "df3.head()"
      ],
      "execution_count": 31,
      "outputs": [
        {
          "output_type": "execute_result",
          "data": {
            "text/html": [
              "<div>\n",
              "<style scoped>\n",
              "    .dataframe tbody tr th:only-of-type {\n",
              "        vertical-align: middle;\n",
              "    }\n",
              "\n",
              "    .dataframe tbody tr th {\n",
              "        vertical-align: top;\n",
              "    }\n",
              "\n",
              "    .dataframe thead th {\n",
              "        text-align: right;\n",
              "    }\n",
              "</style>\n",
              "<table border=\"1\" class=\"dataframe\">\n",
              "  <thead>\n",
              "    <tr style=\"text-align: right;\">\n",
              "      <th></th>\n",
              "      <th>airline_sentiment</th>\n",
              "      <th>text</th>\n",
              "    </tr>\n",
              "  </thead>\n",
              "  <tbody>\n",
              "    <tr>\n",
              "      <th>0</th>\n",
              "      <td>neutral</td>\n",
              "      <td>@VirginAmerica What @dhepburn said.</td>\n",
              "    </tr>\n",
              "    <tr>\n",
              "      <th>1</th>\n",
              "      <td>positive</td>\n",
              "      <td>@VirginAmerica plus you've added commercials t...</td>\n",
              "    </tr>\n",
              "    <tr>\n",
              "      <th>2</th>\n",
              "      <td>neutral</td>\n",
              "      <td>@VirginAmerica I didn't today... Must mean I n...</td>\n",
              "    </tr>\n",
              "    <tr>\n",
              "      <th>3</th>\n",
              "      <td>negative</td>\n",
              "      <td>@VirginAmerica it's really aggressive to blast...</td>\n",
              "    </tr>\n",
              "    <tr>\n",
              "      <th>4</th>\n",
              "      <td>negative</td>\n",
              "      <td>@VirginAmerica and it's a really big bad thing...</td>\n",
              "    </tr>\n",
              "  </tbody>\n",
              "</table>\n",
              "</div>"
            ],
            "text/plain": [
              "  airline_sentiment                                               text\n",
              "0           neutral                @VirginAmerica What @dhepburn said.\n",
              "1          positive  @VirginAmerica plus you've added commercials t...\n",
              "2           neutral  @VirginAmerica I didn't today... Must mean I n...\n",
              "3          negative  @VirginAmerica it's really aggressive to blast...\n",
              "4          negative  @VirginAmerica and it's a really big bad thing..."
            ]
          },
          "metadata": {
            "tags": []
          },
          "execution_count": 31
        }
      ]
    },
    {
      "cell_type": "code",
      "metadata": {
        "colab": {
          "base_uri": "https://localhost:8080/",
          "height": 859
        },
        "id": "E5i5_G-kAdbT",
        "outputId": "a9e8e379-40e3-44ee-f18c-f113de8a4256"
      },
      "source": [
        "df3[df3['text'].str.contains('<')==True]"
      ],
      "execution_count": 33,
      "outputs": [
        {
          "output_type": "execute_result",
          "data": {
            "text/html": [
              "<div>\n",
              "<style scoped>\n",
              "    .dataframe tbody tr th:only-of-type {\n",
              "        vertical-align: middle;\n",
              "    }\n",
              "\n",
              "    .dataframe tbody tr th {\n",
              "        vertical-align: top;\n",
              "    }\n",
              "\n",
              "    .dataframe thead th {\n",
              "        text-align: right;\n",
              "    }\n",
              "</style>\n",
              "<table border=\"1\" class=\"dataframe\">\n",
              "  <thead>\n",
              "    <tr style=\"text-align: right;\">\n",
              "      <th></th>\n",
              "      <th>airline_sentiment</th>\n",
              "      <th>text</th>\n",
              "    </tr>\n",
              "  </thead>\n",
              "  <tbody>\n",
              "    <tr>\n",
              "      <th>11</th>\n",
              "      <td>positive</td>\n",
              "      <td>@VirginAmerica I &lt;3 pretty graphics. so much b...</td>\n",
              "    </tr>\n",
              "    <tr>\n",
              "      <th>88</th>\n",
              "      <td>neutral</td>\n",
              "      <td>@VirginAmerica I &lt;3 Flying VA But Life happens...</td>\n",
              "    </tr>\n",
              "    <tr>\n",
              "      <th>378</th>\n",
              "      <td>positive</td>\n",
              "      <td>@VirginAmerica For my Grandma Ella's 80th, she...</td>\n",
              "    </tr>\n",
              "    <tr>\n",
              "      <th>466</th>\n",
              "      <td>positive</td>\n",
              "      <td>@VirginAmerica I don’t use Passbook =/ I still...</td>\n",
              "    </tr>\n",
              "    <tr>\n",
              "      <th>468</th>\n",
              "      <td>neutral</td>\n",
              "      <td>@VirginAmerica do you have an application for ...</td>\n",
              "    </tr>\n",
              "    <tr>\n",
              "      <th>490</th>\n",
              "      <td>positive</td>\n",
              "      <td>@VirginAmerica you guys are perfect as always!...</td>\n",
              "    </tr>\n",
              "    <tr>\n",
              "      <th>1552</th>\n",
              "      <td>negative</td>\n",
              "      <td>@united:  thanks for the miserable trip GNV&lt;&lt;&lt;...</td>\n",
              "    </tr>\n",
              "    <tr>\n",
              "      <th>3167</th>\n",
              "      <td>positive</td>\n",
              "      <td>@united  4 reFlight Booking Problemss in last ...</td>\n",
              "    </tr>\n",
              "    <tr>\n",
              "      <th>3794</th>\n",
              "      <td>positive</td>\n",
              "      <td>@united I am blown away by stellar #custserv !...</td>\n",
              "    </tr>\n",
              "    <tr>\n",
              "      <th>3844</th>\n",
              "      <td>negative</td>\n",
              "      <td>@united There are Exit-Row window shades in ap...</td>\n",
              "    </tr>\n",
              "    <tr>\n",
              "      <th>3858</th>\n",
              "      <td>neutral</td>\n",
              "      <td>@united FAIL set to song. http://t.co/Axpn28xi...</td>\n",
              "    </tr>\n",
              "    <tr>\n",
              "      <th>3914</th>\n",
              "      <td>negative</td>\n",
              "      <td>@united &lt;&lt;&lt;&lt;&lt;------- shoddy customer service. ...</td>\n",
              "    </tr>\n",
              "    <tr>\n",
              "      <th>3915</th>\n",
              "      <td>negative</td>\n",
              "      <td>@united &lt;&lt;&lt;&lt;&lt;&lt;-------- do not reply to emails?</td>\n",
              "    </tr>\n",
              "    <tr>\n",
              "      <th>4861</th>\n",
              "      <td>negative</td>\n",
              "      <td>But expect no help from -&gt;@SouthwestAir &lt;-.  O...</td>\n",
              "    </tr>\n",
              "    <tr>\n",
              "      <th>4978</th>\n",
              "      <td>negative</td>\n",
              "      <td>&lt;3 &lt;3 RT @SouthwestAir! @danihampton Sorry to ...</td>\n",
              "    </tr>\n",
              "    <tr>\n",
              "      <th>4979</th>\n",
              "      <td>positive</td>\n",
              "      <td>@SouthwestAir you guys rule. I will DM you. &lt;3...</td>\n",
              "    </tr>\n",
              "    <tr>\n",
              "      <th>5339</th>\n",
              "      <td>positive</td>\n",
              "      <td>@SouthwestAir Thank u Thank u Thank u for comi...</td>\n",
              "    </tr>\n",
              "    <tr>\n",
              "      <th>5483</th>\n",
              "      <td>positive</td>\n",
              "      <td>@SouthwestAir rocks! Open letter to flight att...</td>\n",
              "    </tr>\n",
              "    <tr>\n",
              "      <th>5544</th>\n",
              "      <td>positive</td>\n",
              "      <td>@SouthwestAir got it taken care of! thank you &lt;3</td>\n",
              "    </tr>\n",
              "    <tr>\n",
              "      <th>6903</th>\n",
              "      <td>neutral</td>\n",
              "      <td>“@JetBlue: Our fleet's on fleek. http://t.co/B...</td>\n",
              "    </tr>\n",
              "    <tr>\n",
              "      <th>7104</th>\n",
              "      <td>negative</td>\n",
              "      <td>RT @JetBlue: Our fleet's on fleek. http://t.co...</td>\n",
              "    </tr>\n",
              "    <tr>\n",
              "      <th>8044</th>\n",
              "      <td>positive</td>\n",
              "      <td>@JetBlue i love this song &lt;3 thanks @JetBlue</td>\n",
              "    </tr>\n",
              "    <tr>\n",
              "      <th>11603</th>\n",
              "      <td>positive</td>\n",
              "      <td>@USAirways Awesome USAir, TYSVM &lt;3</td>\n",
              "    </tr>\n",
              "    <tr>\n",
              "      <th>11610</th>\n",
              "      <td>positive</td>\n",
              "      <td>@USAirways TYVM USAir, Happy Night@ &lt;3</td>\n",
              "    </tr>\n",
              "    <tr>\n",
              "      <th>13164</th>\n",
              "      <td>negative</td>\n",
              "      <td>@AmericanAir I'm trying to make a reservation ...</td>\n",
              "    </tr>\n",
              "    <tr>\n",
              "      <th>14164</th>\n",
              "      <td>positive</td>\n",
              "      <td>@AmericanAir versus @JetBlue \\nin Customer Ser...</td>\n",
              "    </tr>\n",
              "  </tbody>\n",
              "</table>\n",
              "</div>"
            ],
            "text/plain": [
              "      airline_sentiment                                               text\n",
              "11             positive  @VirginAmerica I <3 pretty graphics. so much b...\n",
              "88              neutral  @VirginAmerica I <3 Flying VA But Life happens...\n",
              "378            positive  @VirginAmerica For my Grandma Ella's 80th, she...\n",
              "466            positive  @VirginAmerica I don’t use Passbook =/ I still...\n",
              "468             neutral  @VirginAmerica do you have an application for ...\n",
              "490            positive  @VirginAmerica you guys are perfect as always!...\n",
              "1552           negative  @united:  thanks for the miserable trip GNV<<<...\n",
              "3167           positive  @united  4 reFlight Booking Problemss in last ...\n",
              "3794           positive  @united I am blown away by stellar #custserv !...\n",
              "3844           negative  @united There are Exit-Row window shades in ap...\n",
              "3858            neutral  @united FAIL set to song. http://t.co/Axpn28xi...\n",
              "3914           negative  @united <<<<<------- shoddy customer service. ...\n",
              "3915           negative     @united <<<<<<-------- do not reply to emails?\n",
              "4861           negative  But expect no help from ->@SouthwestAir <-.  O...\n",
              "4978           negative  <3 <3 RT @SouthwestAir! @danihampton Sorry to ...\n",
              "4979           positive  @SouthwestAir you guys rule. I will DM you. <3...\n",
              "5339           positive  @SouthwestAir Thank u Thank u Thank u for comi...\n",
              "5483           positive  @SouthwestAir rocks! Open letter to flight att...\n",
              "5544           positive   @SouthwestAir got it taken care of! thank you <3\n",
              "6903            neutral  “@JetBlue: Our fleet's on fleek. http://t.co/B...\n",
              "7104           negative  RT @JetBlue: Our fleet's on fleek. http://t.co...\n",
              "8044           positive       @JetBlue i love this song <3 thanks @JetBlue\n",
              "11603          positive                 @USAirways Awesome USAir, TYSVM <3\n",
              "11610          positive             @USAirways TYVM USAir, Happy Night@ <3\n",
              "13164          negative  @AmericanAir I'm trying to make a reservation ...\n",
              "14164          positive  @AmericanAir versus @JetBlue \\nin Customer Ser..."
            ]
          },
          "metadata": {
            "tags": []
          },
          "execution_count": 33
        }
      ]
    },
    {
      "cell_type": "code",
      "metadata": {
        "colab": {
          "base_uri": "https://localhost:8080/"
        },
        "id": "kT61c0ijp8N0",
        "outputId": "39580e37-5f7a-4c61-8a7a-84d04f0738ab"
      },
      "source": [
        "df3.iloc[11]"
      ],
      "execution_count": 34,
      "outputs": [
        {
          "output_type": "execute_result",
          "data": {
            "text/plain": [
              "airline_sentiment                                             positive\n",
              "text                 @VirginAmerica I <3 pretty graphics. so much b...\n",
              "Name: 11, dtype: object"
            ]
          },
          "metadata": {
            "tags": []
          },
          "execution_count": 34
        }
      ]
    },
    {
      "cell_type": "markdown",
      "metadata": {
        "id": "KJ-0XfMfBML5"
      },
      "source": [
        "There is no any HTML tags in the text"
      ]
    },
    {
      "cell_type": "markdown",
      "metadata": {
        "id": "w0Vkgxo6BQZJ"
      },
      "source": [
        "### Tokenization"
      ]
    },
    {
      "cell_type": "code",
      "metadata": {
        "id": "ijH8e-3GBWFK"
      },
      "source": [
        "df3['token_text']=[BeautifulSoup(txt).get_text() for txt in df3['text']]"
      ],
      "execution_count": 35,
      "outputs": []
    },
    {
      "cell_type": "code",
      "metadata": {
        "colab": {
          "base_uri": "https://localhost:8080/"
        },
        "id": "OJmA4ZNTCReb",
        "outputId": "49456c5b-c1da-4b84-8709-72203f1c796e"
      },
      "source": [
        "df3.shape"
      ],
      "execution_count": 41,
      "outputs": [
        {
          "output_type": "execute_result",
          "data": {
            "text/plain": [
              "(14452, 3)"
            ]
          },
          "metadata": {
            "tags": []
          },
          "execution_count": 41
        }
      ]
    },
    {
      "cell_type": "code",
      "metadata": {
        "colab": {
          "base_uri": "https://localhost:8080/",
          "height": 291
        },
        "id": "j8DBGnnnDawy",
        "outputId": "6e324e9c-67a4-4844-8b15-69b6f0eda543"
      },
      "source": [
        "from nltk.tokenize import TweetTokenizer\n",
        "tt=TweetTokenizer()\n",
        "df3['tweet_tokens']=df3['token_text'].apply(tt.tokenize)\n",
        "df3.head()"
      ],
      "execution_count": 42,
      "outputs": [
        {
          "output_type": "execute_result",
          "data": {
            "text/html": [
              "<div>\n",
              "<style scoped>\n",
              "    .dataframe tbody tr th:only-of-type {\n",
              "        vertical-align: middle;\n",
              "    }\n",
              "\n",
              "    .dataframe tbody tr th {\n",
              "        vertical-align: top;\n",
              "    }\n",
              "\n",
              "    .dataframe thead th {\n",
              "        text-align: right;\n",
              "    }\n",
              "</style>\n",
              "<table border=\"1\" class=\"dataframe\">\n",
              "  <thead>\n",
              "    <tr style=\"text-align: right;\">\n",
              "      <th></th>\n",
              "      <th>airline_sentiment</th>\n",
              "      <th>text</th>\n",
              "      <th>token_text</th>\n",
              "      <th>tweet_tokens</th>\n",
              "    </tr>\n",
              "  </thead>\n",
              "  <tbody>\n",
              "    <tr>\n",
              "      <th>0</th>\n",
              "      <td>neutral</td>\n",
              "      <td>@VirginAmerica What @dhepburn said.</td>\n",
              "      <td>@VirginAmerica What @dhepburn said.</td>\n",
              "      <td>[@VirginAmerica, What, @dhepburn, said, .]</td>\n",
              "    </tr>\n",
              "    <tr>\n",
              "      <th>1</th>\n",
              "      <td>positive</td>\n",
              "      <td>@VirginAmerica plus you've added commercials t...</td>\n",
              "      <td>@VirginAmerica plus you've added commercials t...</td>\n",
              "      <td>[@VirginAmerica, plus, you've, added, commerci...</td>\n",
              "    </tr>\n",
              "    <tr>\n",
              "      <th>2</th>\n",
              "      <td>neutral</td>\n",
              "      <td>@VirginAmerica I didn't today... Must mean I n...</td>\n",
              "      <td>@VirginAmerica I didn't today... Must mean I n...</td>\n",
              "      <td>[@VirginAmerica, I, didn't, today, ..., Must, ...</td>\n",
              "    </tr>\n",
              "    <tr>\n",
              "      <th>3</th>\n",
              "      <td>negative</td>\n",
              "      <td>@VirginAmerica it's really aggressive to blast...</td>\n",
              "      <td>@VirginAmerica it's really aggressive to blast...</td>\n",
              "      <td>[@VirginAmerica, it's, really, aggressive, to,...</td>\n",
              "    </tr>\n",
              "    <tr>\n",
              "      <th>4</th>\n",
              "      <td>negative</td>\n",
              "      <td>@VirginAmerica and it's a really big bad thing...</td>\n",
              "      <td>@VirginAmerica and it's a really big bad thing...</td>\n",
              "      <td>[@VirginAmerica, and, it's, a, really, big, ba...</td>\n",
              "    </tr>\n",
              "  </tbody>\n",
              "</table>\n",
              "</div>"
            ],
            "text/plain": [
              "  airline_sentiment  ...                                       tweet_tokens\n",
              "0           neutral  ...         [@VirginAmerica, What, @dhepburn, said, .]\n",
              "1          positive  ...  [@VirginAmerica, plus, you've, added, commerci...\n",
              "2           neutral  ...  [@VirginAmerica, I, didn't, today, ..., Must, ...\n",
              "3          negative  ...  [@VirginAmerica, it's, really, aggressive, to,...\n",
              "4          negative  ...  [@VirginAmerica, and, it's, a, really, big, ba...\n",
              "\n",
              "[5 rows x 4 columns]"
            ]
          },
          "metadata": {
            "tags": []
          },
          "execution_count": 42
        }
      ]
    },
    {
      "cell_type": "markdown",
      "metadata": {
        "id": "Eeuosr3UF1fI"
      },
      "source": [
        "**Remove Numbers from the text**"
      ]
    },
    {
      "cell_type": "code",
      "metadata": {
        "id": "qFUIW52iHwzc"
      },
      "source": [
        "df3['text']= [re.sub(r'[0-9]',\"\",txt) for txt in df3['text']]\n"
      ],
      "execution_count": 43,
      "outputs": []
    },
    {
      "cell_type": "code",
      "metadata": {
        "colab": {
          "base_uri": "https://localhost:8080/"
        },
        "id": "CwMPUBfmJbmi",
        "outputId": "03518675-3a88-4035-e274-6a3eee705f29"
      },
      "source": [
        "df3.iloc[11]"
      ],
      "execution_count": 46,
      "outputs": [
        {
          "output_type": "execute_result",
          "data": {
            "text/plain": [
              "airline_sentiment                                             positive\n",
              "text                 @VirginAmerica I < pretty graphics. so much be...\n",
              "token_text           @VirginAmerica I <3 pretty graphics. so much b...\n",
              "tweet_tokens         [@VirginAmerica, I, <3, pretty, graphics, ., s...\n",
              "Name: 11, dtype: object"
            ]
          },
          "metadata": {
            "tags": []
          },
          "execution_count": 46
        }
      ]
    },
    {
      "cell_type": "markdown",
      "metadata": {
        "id": "ZVBMnkuwVOl8"
      },
      "source": [
        "**Removing Special Characters, Punctuation Marks**"
      ]
    },
    {
      "cell_type": "code",
      "metadata": {
        "colab": {
          "base_uri": "https://localhost:8080/",
          "height": 291
        },
        "id": "Jh2aQwE8VT3C",
        "outputId": "df6c7a71-d050-44cc-a54c-cc51b9b7af5d"
      },
      "source": [
        "import string\n",
        "df3['text']=[txt.translate(str.maketrans('','',string.punctuation)) for txt in df3['text']]\n",
        "df3.head()"
      ],
      "execution_count": 47,
      "outputs": [
        {
          "output_type": "execute_result",
          "data": {
            "text/html": [
              "<div>\n",
              "<style scoped>\n",
              "    .dataframe tbody tr th:only-of-type {\n",
              "        vertical-align: middle;\n",
              "    }\n",
              "\n",
              "    .dataframe tbody tr th {\n",
              "        vertical-align: top;\n",
              "    }\n",
              "\n",
              "    .dataframe thead th {\n",
              "        text-align: right;\n",
              "    }\n",
              "</style>\n",
              "<table border=\"1\" class=\"dataframe\">\n",
              "  <thead>\n",
              "    <tr style=\"text-align: right;\">\n",
              "      <th></th>\n",
              "      <th>airline_sentiment</th>\n",
              "      <th>text</th>\n",
              "      <th>token_text</th>\n",
              "      <th>tweet_tokens</th>\n",
              "    </tr>\n",
              "  </thead>\n",
              "  <tbody>\n",
              "    <tr>\n",
              "      <th>0</th>\n",
              "      <td>neutral</td>\n",
              "      <td>VirginAmerica What dhepburn said</td>\n",
              "      <td>@VirginAmerica What @dhepburn said.</td>\n",
              "      <td>[@VirginAmerica, What, @dhepburn, said, .]</td>\n",
              "    </tr>\n",
              "    <tr>\n",
              "      <th>1</th>\n",
              "      <td>positive</td>\n",
              "      <td>VirginAmerica plus youve added commercials to ...</td>\n",
              "      <td>@VirginAmerica plus you've added commercials t...</td>\n",
              "      <td>[@VirginAmerica, plus, you've, added, commerci...</td>\n",
              "    </tr>\n",
              "    <tr>\n",
              "      <th>2</th>\n",
              "      <td>neutral</td>\n",
              "      <td>VirginAmerica I didnt today Must mean I need t...</td>\n",
              "      <td>@VirginAmerica I didn't today... Must mean I n...</td>\n",
              "      <td>[@VirginAmerica, I, didn't, today, ..., Must, ...</td>\n",
              "    </tr>\n",
              "    <tr>\n",
              "      <th>3</th>\n",
              "      <td>negative</td>\n",
              "      <td>VirginAmerica its really aggressive to blast o...</td>\n",
              "      <td>@VirginAmerica it's really aggressive to blast...</td>\n",
              "      <td>[@VirginAmerica, it's, really, aggressive, to,...</td>\n",
              "    </tr>\n",
              "    <tr>\n",
              "      <th>4</th>\n",
              "      <td>negative</td>\n",
              "      <td>VirginAmerica and its a really big bad thing a...</td>\n",
              "      <td>@VirginAmerica and it's a really big bad thing...</td>\n",
              "      <td>[@VirginAmerica, and, it's, a, really, big, ba...</td>\n",
              "    </tr>\n",
              "  </tbody>\n",
              "</table>\n",
              "</div>"
            ],
            "text/plain": [
              "  airline_sentiment  ...                                       tweet_tokens\n",
              "0           neutral  ...         [@VirginAmerica, What, @dhepburn, said, .]\n",
              "1          positive  ...  [@VirginAmerica, plus, you've, added, commerci...\n",
              "2           neutral  ...  [@VirginAmerica, I, didn't, today, ..., Must, ...\n",
              "3          negative  ...  [@VirginAmerica, it's, really, aggressive, to,...\n",
              "4          negative  ...  [@VirginAmerica, and, it's, a, really, big, ba...\n",
              "\n",
              "[5 rows x 4 columns]"
            ]
          },
          "metadata": {
            "tags": []
          },
          "execution_count": 47
        }
      ]
    },
    {
      "cell_type": "code",
      "metadata": {
        "colab": {
          "base_uri": "https://localhost:8080/",
          "height": 49
        },
        "id": "CVD4bvmJY3AF",
        "outputId": "ee6eb25b-d909-4f66-bc73-c92ba6e6e918"
      },
      "source": [
        "df3[df3['text'].str.contains('!')]"
      ],
      "execution_count": 48,
      "outputs": [
        {
          "output_type": "execute_result",
          "data": {
            "text/html": [
              "<div>\n",
              "<style scoped>\n",
              "    .dataframe tbody tr th:only-of-type {\n",
              "        vertical-align: middle;\n",
              "    }\n",
              "\n",
              "    .dataframe tbody tr th {\n",
              "        vertical-align: top;\n",
              "    }\n",
              "\n",
              "    .dataframe thead th {\n",
              "        text-align: right;\n",
              "    }\n",
              "</style>\n",
              "<table border=\"1\" class=\"dataframe\">\n",
              "  <thead>\n",
              "    <tr style=\"text-align: right;\">\n",
              "      <th></th>\n",
              "      <th>airline_sentiment</th>\n",
              "      <th>text</th>\n",
              "      <th>token_text</th>\n",
              "      <th>tweet_tokens</th>\n",
              "    </tr>\n",
              "  </thead>\n",
              "  <tbody>\n",
              "  </tbody>\n",
              "</table>\n",
              "</div>"
            ],
            "text/plain": [
              "Empty DataFrame\n",
              "Columns: [airline_sentiment, text, token_text, tweet_tokens]\n",
              "Index: []"
            ]
          },
          "metadata": {
            "tags": []
          },
          "execution_count": 48
        }
      ]
    },
    {
      "cell_type": "markdown",
      "metadata": {
        "id": "c5uiSBQ2cd8K"
      },
      "source": [
        "**Lower Case conversion**"
      ]
    },
    {
      "cell_type": "code",
      "metadata": {
        "colab": {
          "base_uri": "https://localhost:8080/",
          "height": 291
        },
        "id": "WfOYiMRsbOIc",
        "outputId": "c2942284-3354-4d1f-830e-1e5115070e10"
      },
      "source": [
        "df3['text']=[re.sub(r\"[^a-zA-Z0-9]+\", ' ',txt) for txt in df3['text']]\n",
        "df3.head()"
      ],
      "execution_count": 49,
      "outputs": [
        {
          "output_type": "execute_result",
          "data": {
            "text/html": [
              "<div>\n",
              "<style scoped>\n",
              "    .dataframe tbody tr th:only-of-type {\n",
              "        vertical-align: middle;\n",
              "    }\n",
              "\n",
              "    .dataframe tbody tr th {\n",
              "        vertical-align: top;\n",
              "    }\n",
              "\n",
              "    .dataframe thead th {\n",
              "        text-align: right;\n",
              "    }\n",
              "</style>\n",
              "<table border=\"1\" class=\"dataframe\">\n",
              "  <thead>\n",
              "    <tr style=\"text-align: right;\">\n",
              "      <th></th>\n",
              "      <th>airline_sentiment</th>\n",
              "      <th>text</th>\n",
              "      <th>token_text</th>\n",
              "      <th>tweet_tokens</th>\n",
              "    </tr>\n",
              "  </thead>\n",
              "  <tbody>\n",
              "    <tr>\n",
              "      <th>0</th>\n",
              "      <td>neutral</td>\n",
              "      <td>VirginAmerica What dhepburn said</td>\n",
              "      <td>@VirginAmerica What @dhepburn said.</td>\n",
              "      <td>[@VirginAmerica, What, @dhepburn, said, .]</td>\n",
              "    </tr>\n",
              "    <tr>\n",
              "      <th>1</th>\n",
              "      <td>positive</td>\n",
              "      <td>VirginAmerica plus youve added commercials to ...</td>\n",
              "      <td>@VirginAmerica plus you've added commercials t...</td>\n",
              "      <td>[@VirginAmerica, plus, you've, added, commerci...</td>\n",
              "    </tr>\n",
              "    <tr>\n",
              "      <th>2</th>\n",
              "      <td>neutral</td>\n",
              "      <td>VirginAmerica I didnt today Must mean I need t...</td>\n",
              "      <td>@VirginAmerica I didn't today... Must mean I n...</td>\n",
              "      <td>[@VirginAmerica, I, didn't, today, ..., Must, ...</td>\n",
              "    </tr>\n",
              "    <tr>\n",
              "      <th>3</th>\n",
              "      <td>negative</td>\n",
              "      <td>VirginAmerica its really aggressive to blast o...</td>\n",
              "      <td>@VirginAmerica it's really aggressive to blast...</td>\n",
              "      <td>[@VirginAmerica, it's, really, aggressive, to,...</td>\n",
              "    </tr>\n",
              "    <tr>\n",
              "      <th>4</th>\n",
              "      <td>negative</td>\n",
              "      <td>VirginAmerica and its a really big bad thing a...</td>\n",
              "      <td>@VirginAmerica and it's a really big bad thing...</td>\n",
              "      <td>[@VirginAmerica, and, it's, a, really, big, ba...</td>\n",
              "    </tr>\n",
              "  </tbody>\n",
              "</table>\n",
              "</div>"
            ],
            "text/plain": [
              "  airline_sentiment  ...                                       tweet_tokens\n",
              "0           neutral  ...         [@VirginAmerica, What, @dhepburn, said, .]\n",
              "1          positive  ...  [@VirginAmerica, plus, you've, added, commerci...\n",
              "2           neutral  ...  [@VirginAmerica, I, didn't, today, ..., Must, ...\n",
              "3          negative  ...  [@VirginAmerica, it's, really, aggressive, to,...\n",
              "4          negative  ...  [@VirginAmerica, and, it's, a, really, big, ba...\n",
              "\n",
              "[5 rows x 4 columns]"
            ]
          },
          "metadata": {
            "tags": []
          },
          "execution_count": 49
        }
      ]
    },
    {
      "cell_type": "code",
      "metadata": {
        "colab": {
          "base_uri": "https://localhost:8080/",
          "height": 291
        },
        "id": "B6lZWgEPbxxQ",
        "outputId": "ea32f4d3-8005-4337-b989-54dc68c42633"
      },
      "source": [
        "df3['text']=[txt.lower() for txt in df3['text']]\n",
        "df3.head()"
      ],
      "execution_count": 50,
      "outputs": [
        {
          "output_type": "execute_result",
          "data": {
            "text/html": [
              "<div>\n",
              "<style scoped>\n",
              "    .dataframe tbody tr th:only-of-type {\n",
              "        vertical-align: middle;\n",
              "    }\n",
              "\n",
              "    .dataframe tbody tr th {\n",
              "        vertical-align: top;\n",
              "    }\n",
              "\n",
              "    .dataframe thead th {\n",
              "        text-align: right;\n",
              "    }\n",
              "</style>\n",
              "<table border=\"1\" class=\"dataframe\">\n",
              "  <thead>\n",
              "    <tr style=\"text-align: right;\">\n",
              "      <th></th>\n",
              "      <th>airline_sentiment</th>\n",
              "      <th>text</th>\n",
              "      <th>token_text</th>\n",
              "      <th>tweet_tokens</th>\n",
              "    </tr>\n",
              "  </thead>\n",
              "  <tbody>\n",
              "    <tr>\n",
              "      <th>0</th>\n",
              "      <td>neutral</td>\n",
              "      <td>virginamerica what dhepburn said</td>\n",
              "      <td>@VirginAmerica What @dhepburn said.</td>\n",
              "      <td>[@VirginAmerica, What, @dhepburn, said, .]</td>\n",
              "    </tr>\n",
              "    <tr>\n",
              "      <th>1</th>\n",
              "      <td>positive</td>\n",
              "      <td>virginamerica plus youve added commercials to ...</td>\n",
              "      <td>@VirginAmerica plus you've added commercials t...</td>\n",
              "      <td>[@VirginAmerica, plus, you've, added, commerci...</td>\n",
              "    </tr>\n",
              "    <tr>\n",
              "      <th>2</th>\n",
              "      <td>neutral</td>\n",
              "      <td>virginamerica i didnt today must mean i need t...</td>\n",
              "      <td>@VirginAmerica I didn't today... Must mean I n...</td>\n",
              "      <td>[@VirginAmerica, I, didn't, today, ..., Must, ...</td>\n",
              "    </tr>\n",
              "    <tr>\n",
              "      <th>3</th>\n",
              "      <td>negative</td>\n",
              "      <td>virginamerica its really aggressive to blast o...</td>\n",
              "      <td>@VirginAmerica it's really aggressive to blast...</td>\n",
              "      <td>[@VirginAmerica, it's, really, aggressive, to,...</td>\n",
              "    </tr>\n",
              "    <tr>\n",
              "      <th>4</th>\n",
              "      <td>negative</td>\n",
              "      <td>virginamerica and its a really big bad thing a...</td>\n",
              "      <td>@VirginAmerica and it's a really big bad thing...</td>\n",
              "      <td>[@VirginAmerica, and, it's, a, really, big, ba...</td>\n",
              "    </tr>\n",
              "  </tbody>\n",
              "</table>\n",
              "</div>"
            ],
            "text/plain": [
              "  airline_sentiment  ...                                       tweet_tokens\n",
              "0           neutral  ...         [@VirginAmerica, What, @dhepburn, said, .]\n",
              "1          positive  ...  [@VirginAmerica, plus, you've, added, commerci...\n",
              "2           neutral  ...  [@VirginAmerica, I, didn't, today, ..., Must, ...\n",
              "3          negative  ...  [@VirginAmerica, it's, really, aggressive, to,...\n",
              "4          negative  ...  [@VirginAmerica, and, it's, a, really, big, ba...\n",
              "\n",
              "[5 rows x 4 columns]"
            ]
          },
          "metadata": {
            "tags": []
          },
          "execution_count": 50
        }
      ]
    },
    {
      "cell_type": "code",
      "metadata": {
        "colab": {
          "base_uri": "https://localhost:8080/",
          "height": 1000
        },
        "id": "kLPHmIM0dl-B",
        "outputId": "10c87d50-3821-4d69-dac5-edcf3306ef24"
      },
      "source": [
        "from nltk.stem import PorterStemmer\n",
        "porter=PorterStemmer()\n",
        "df3['text'].apply(porter.stem)\n",
        "df3.head(50)"
      ],
      "execution_count": 51,
      "outputs": [
        {
          "output_type": "execute_result",
          "data": {
            "text/html": [
              "<div>\n",
              "<style scoped>\n",
              "    .dataframe tbody tr th:only-of-type {\n",
              "        vertical-align: middle;\n",
              "    }\n",
              "\n",
              "    .dataframe tbody tr th {\n",
              "        vertical-align: top;\n",
              "    }\n",
              "\n",
              "    .dataframe thead th {\n",
              "        text-align: right;\n",
              "    }\n",
              "</style>\n",
              "<table border=\"1\" class=\"dataframe\">\n",
              "  <thead>\n",
              "    <tr style=\"text-align: right;\">\n",
              "      <th></th>\n",
              "      <th>airline_sentiment</th>\n",
              "      <th>text</th>\n",
              "      <th>token_text</th>\n",
              "      <th>tweet_tokens</th>\n",
              "    </tr>\n",
              "  </thead>\n",
              "  <tbody>\n",
              "    <tr>\n",
              "      <th>0</th>\n",
              "      <td>neutral</td>\n",
              "      <td>virginamerica what dhepburn said</td>\n",
              "      <td>@VirginAmerica What @dhepburn said.</td>\n",
              "      <td>[@VirginAmerica, What, @dhepburn, said, .]</td>\n",
              "    </tr>\n",
              "    <tr>\n",
              "      <th>1</th>\n",
              "      <td>positive</td>\n",
              "      <td>virginamerica plus youve added commercials to ...</td>\n",
              "      <td>@VirginAmerica plus you've added commercials t...</td>\n",
              "      <td>[@VirginAmerica, plus, you've, added, commerci...</td>\n",
              "    </tr>\n",
              "    <tr>\n",
              "      <th>2</th>\n",
              "      <td>neutral</td>\n",
              "      <td>virginamerica i didnt today must mean i need t...</td>\n",
              "      <td>@VirginAmerica I didn't today... Must mean I n...</td>\n",
              "      <td>[@VirginAmerica, I, didn't, today, ..., Must, ...</td>\n",
              "    </tr>\n",
              "    <tr>\n",
              "      <th>3</th>\n",
              "      <td>negative</td>\n",
              "      <td>virginamerica its really aggressive to blast o...</td>\n",
              "      <td>@VirginAmerica it's really aggressive to blast...</td>\n",
              "      <td>[@VirginAmerica, it's, really, aggressive, to,...</td>\n",
              "    </tr>\n",
              "    <tr>\n",
              "      <th>4</th>\n",
              "      <td>negative</td>\n",
              "      <td>virginamerica and its a really big bad thing a...</td>\n",
              "      <td>@VirginAmerica and it's a really big bad thing...</td>\n",
              "      <td>[@VirginAmerica, and, it's, a, really, big, ba...</td>\n",
              "    </tr>\n",
              "    <tr>\n",
              "      <th>5</th>\n",
              "      <td>negative</td>\n",
              "      <td>virginamerica seriously would pay a flight for...</td>\n",
              "      <td>@VirginAmerica seriously would pay $30 a fligh...</td>\n",
              "      <td>[@VirginAmerica, seriously, would, pay, $, 30,...</td>\n",
              "    </tr>\n",
              "    <tr>\n",
              "      <th>6</th>\n",
              "      <td>positive</td>\n",
              "      <td>virginamerica yes nearly every time i fly vx t...</td>\n",
              "      <td>@VirginAmerica yes, nearly every time I fly VX...</td>\n",
              "      <td>[@VirginAmerica, yes, ,, nearly, every, time, ...</td>\n",
              "    </tr>\n",
              "    <tr>\n",
              "      <th>7</th>\n",
              "      <td>neutral</td>\n",
              "      <td>virginamerica really missed a prime opportunit...</td>\n",
              "      <td>@VirginAmerica Really missed a prime opportuni...</td>\n",
              "      <td>[@VirginAmerica, Really, missed, a, prime, opp...</td>\n",
              "    </tr>\n",
              "    <tr>\n",
              "      <th>8</th>\n",
              "      <td>positive</td>\n",
              "      <td>virginamerica well i didnt but now i do d</td>\n",
              "      <td>@virginamerica Well, I didn't…but NOW I DO! :-D</td>\n",
              "      <td>[@virginamerica, Well, ,, I, didn't, …, but, N...</td>\n",
              "    </tr>\n",
              "    <tr>\n",
              "      <th>9</th>\n",
              "      <td>positive</td>\n",
              "      <td>virginamerica it was amazing and arrived an ho...</td>\n",
              "      <td>@VirginAmerica it was amazing, and arrived an ...</td>\n",
              "      <td>[@VirginAmerica, it, was, amazing, ,, and, arr...</td>\n",
              "    </tr>\n",
              "    <tr>\n",
              "      <th>10</th>\n",
              "      <td>neutral</td>\n",
              "      <td>virginamerica did you know that suicide is the...</td>\n",
              "      <td>@VirginAmerica did you know that suicide is th...</td>\n",
              "      <td>[@VirginAmerica, did, you, know, that, suicide...</td>\n",
              "    </tr>\n",
              "    <tr>\n",
              "      <th>11</th>\n",
              "      <td>positive</td>\n",
              "      <td>virginamerica i pretty graphics so much better...</td>\n",
              "      <td>@VirginAmerica I &lt;3 pretty graphics. so much b...</td>\n",
              "      <td>[@VirginAmerica, I, &lt;3, pretty, graphics, ., s...</td>\n",
              "    </tr>\n",
              "    <tr>\n",
              "      <th>12</th>\n",
              "      <td>positive</td>\n",
              "      <td>virginamerica this is such a great deal alread...</td>\n",
              "      <td>@VirginAmerica This is such a great deal! Alre...</td>\n",
              "      <td>[@VirginAmerica, This, is, such, a, great, dea...</td>\n",
              "    </tr>\n",
              "    <tr>\n",
              "      <th>13</th>\n",
              "      <td>positive</td>\n",
              "      <td>virginamerica virginmedia im flying your fabul...</td>\n",
              "      <td>@VirginAmerica @virginmedia I'm flying your #f...</td>\n",
              "      <td>[@VirginAmerica, @virginmedia, I'm, flying, yo...</td>\n",
              "    </tr>\n",
              "    <tr>\n",
              "      <th>14</th>\n",
              "      <td>positive</td>\n",
              "      <td>virginamerica thanks</td>\n",
              "      <td>@VirginAmerica Thanks!</td>\n",
              "      <td>[@VirginAmerica, Thanks, !]</td>\n",
              "    </tr>\n",
              "    <tr>\n",
              "      <th>15</th>\n",
              "      <td>negative</td>\n",
              "      <td>virginamerica sfopdx schedule is still mia</td>\n",
              "      <td>@VirginAmerica SFO-PDX schedule is still MIA.</td>\n",
              "      <td>[@VirginAmerica, SFO-PDX, schedule, is, still,...</td>\n",
              "    </tr>\n",
              "    <tr>\n",
              "      <th>16</th>\n",
              "      <td>positive</td>\n",
              "      <td>virginamerica so excited for my first cross co...</td>\n",
              "      <td>@VirginAmerica So excited for my first cross c...</td>\n",
              "      <td>[@VirginAmerica, So, excited, for, my, first, ...</td>\n",
              "    </tr>\n",
              "    <tr>\n",
              "      <th>17</th>\n",
              "      <td>negative</td>\n",
              "      <td>virginamerica i flew from nyc to sfo last week...</td>\n",
              "      <td>@VirginAmerica  I flew from NYC to SFO last we...</td>\n",
              "      <td>[@VirginAmerica, I, flew, from, NYC, to, SFO, ...</td>\n",
              "    </tr>\n",
              "    <tr>\n",
              "      <th>18</th>\n",
              "      <td>positive</td>\n",
              "      <td>i flying virginamerica</td>\n",
              "      <td>I ❤️ flying @VirginAmerica. ☺️👍</td>\n",
              "      <td>[I, ❤, ️, flying, @VirginAmerica, ., ☺, ️, 👍]</td>\n",
              "    </tr>\n",
              "    <tr>\n",
              "      <th>19</th>\n",
              "      <td>positive</td>\n",
              "      <td>virginamerica you know what would be amazingly...</td>\n",
              "      <td>@VirginAmerica you know what would be amazingl...</td>\n",
              "      <td>[@VirginAmerica, you, know, what, would, be, a...</td>\n",
              "    </tr>\n",
              "    <tr>\n",
              "      <th>20</th>\n",
              "      <td>negative</td>\n",
              "      <td>virginamerica why are your first fares in may ...</td>\n",
              "      <td>@VirginAmerica why are your first fares in May...</td>\n",
              "      <td>[@VirginAmerica, why, are, your, first, fares,...</td>\n",
              "    </tr>\n",
              "    <tr>\n",
              "      <th>21</th>\n",
              "      <td>positive</td>\n",
              "      <td>virginamerica i love this graphic httptcoutgrr...</td>\n",
              "      <td>@VirginAmerica I love this graphic. http://t.c...</td>\n",
              "      <td>[@VirginAmerica, I, love, this, graphic, ., ht...</td>\n",
              "    </tr>\n",
              "    <tr>\n",
              "      <th>22</th>\n",
              "      <td>positive</td>\n",
              "      <td>virginamerica i love the hipster innovation yo...</td>\n",
              "      <td>@VirginAmerica I love the hipster innovation. ...</td>\n",
              "      <td>[@VirginAmerica, I, love, the, hipster, innova...</td>\n",
              "    </tr>\n",
              "    <tr>\n",
              "      <th>23</th>\n",
              "      <td>neutral</td>\n",
              "      <td>virginamerica will you be making boslas non st...</td>\n",
              "      <td>@VirginAmerica will you be making BOS&gt;LAS non ...</td>\n",
              "      <td>[@VirginAmerica, will, you, be, making, BOS, &gt;...</td>\n",
              "    </tr>\n",
              "    <tr>\n",
              "      <th>24</th>\n",
              "      <td>negative</td>\n",
              "      <td>virginamerica you guys messed up my seating i ...</td>\n",
              "      <td>@VirginAmerica you guys messed up my seating.....</td>\n",
              "      <td>[@VirginAmerica, you, guys, messed, up, my, se...</td>\n",
              "    </tr>\n",
              "    <tr>\n",
              "      <th>25</th>\n",
              "      <td>negative</td>\n",
              "      <td>virginamerica status match program i applied a...</td>\n",
              "      <td>@VirginAmerica status match program.  I applie...</td>\n",
              "      <td>[@VirginAmerica, status, match, program, ., I,...</td>\n",
              "    </tr>\n",
              "    <tr>\n",
              "      <th>26</th>\n",
              "      <td>negative</td>\n",
              "      <td>virginamerica what happened ur vegan food opti...</td>\n",
              "      <td>@VirginAmerica What happened 2 ur vegan food o...</td>\n",
              "      <td>[@VirginAmerica, What, happened, 2, ur, vegan,...</td>\n",
              "    </tr>\n",
              "    <tr>\n",
              "      <th>27</th>\n",
              "      <td>neutral</td>\n",
              "      <td>virginamerica do you miss me dont worry well b...</td>\n",
              "      <td>@VirginAmerica do you miss me? Don't worry we'...</td>\n",
              "      <td>[@VirginAmerica, do, you, miss, me, ?, Don't, ...</td>\n",
              "    </tr>\n",
              "    <tr>\n",
              "      <th>28</th>\n",
              "      <td>negative</td>\n",
              "      <td>virginamerica amazing to me that we cant get a...</td>\n",
              "      <td>@VirginAmerica amazing to me that we can't get...</td>\n",
              "      <td>[@VirginAmerica, amazing, to, me, that, we, ca...</td>\n",
              "    </tr>\n",
              "    <tr>\n",
              "      <th>29</th>\n",
              "      <td>neutral</td>\n",
              "      <td>virginamerica lax to ewr middle seat on a red ...</td>\n",
              "      <td>@VirginAmerica LAX to EWR - Middle seat on a r...</td>\n",
              "      <td>[@VirginAmerica, LAX, to, EWR, -, Middle, seat...</td>\n",
              "    </tr>\n",
              "    <tr>\n",
              "      <th>30</th>\n",
              "      <td>negative</td>\n",
              "      <td>virginamerica hi i just bked a cool birthday t...</td>\n",
              "      <td>@VirginAmerica hi! I just bked a cool birthday...</td>\n",
              "      <td>[@VirginAmerica, hi, !, I, just, bked, a, cool...</td>\n",
              "    </tr>\n",
              "    <tr>\n",
              "      <th>31</th>\n",
              "      <td>neutral</td>\n",
              "      <td>virginamerica are the hours of operation for t...</td>\n",
              "      <td>@VirginAmerica Are the hours of operation for ...</td>\n",
              "      <td>[@VirginAmerica, Are, the, hours, of, operatio...</td>\n",
              "    </tr>\n",
              "    <tr>\n",
              "      <th>32</th>\n",
              "      <td>negative</td>\n",
              "      <td>virginamerica help left expensive headphones o...</td>\n",
              "      <td>@VirginAmerica help, left expensive headphones...</td>\n",
              "      <td>[@VirginAmerica, help, ,, left, expensive, hea...</td>\n",
              "    </tr>\n",
              "    <tr>\n",
              "      <th>33</th>\n",
              "      <td>negative</td>\n",
              "      <td>virginamerica awaiting my return phone call ju...</td>\n",
              "      <td>@VirginAmerica awaiting my return phone call, ...</td>\n",
              "      <td>[@VirginAmerica, awaiting, my, return, phone, ...</td>\n",
              "    </tr>\n",
              "    <tr>\n",
              "      <th>34</th>\n",
              "      <td>positive</td>\n",
              "      <td>virginamerica this is great news america could...</td>\n",
              "      <td>@VirginAmerica this is great news!  America co...</td>\n",
              "      <td>[@VirginAmerica, this, is, great, news, !, Ame...</td>\n",
              "    </tr>\n",
              "    <tr>\n",
              "      <th>35</th>\n",
              "      <td>neutral</td>\n",
              "      <td>nice rt virginamerica vibe with the moodlight ...</td>\n",
              "      <td>Nice RT @VirginAmerica: Vibe with the moodligh...</td>\n",
              "      <td>[Nice, RT, @VirginAmerica, :, Vibe, with, the,...</td>\n",
              "    </tr>\n",
              "    <tr>\n",
              "      <th>36</th>\n",
              "      <td>positive</td>\n",
              "      <td>virginamerica moodlighting is the only way to ...</td>\n",
              "      <td>@VirginAmerica Moodlighting is the only way to...</td>\n",
              "      <td>[@VirginAmerica, Moodlighting, is, the, only, ...</td>\n",
              "    </tr>\n",
              "    <tr>\n",
              "      <th>37</th>\n",
              "      <td>positive</td>\n",
              "      <td>virginamerica freddieawards done and done best...</td>\n",
              "      <td>@VirginAmerica @freddieawards Done and done! B...</td>\n",
              "      <td>[@VirginAmerica, @freddieawards, Done, and, do...</td>\n",
              "    </tr>\n",
              "    <tr>\n",
              "      <th>38</th>\n",
              "      <td>neutral</td>\n",
              "      <td>virginamerica when can i book my flight to hawaii</td>\n",
              "      <td>@VirginAmerica when can I book my flight to Ha...</td>\n",
              "      <td>[@VirginAmerica, when, can, I, book, my, fligh...</td>\n",
              "    </tr>\n",
              "    <tr>\n",
              "      <th>39</th>\n",
              "      <td>negative</td>\n",
              "      <td>virginamerica your chat support is not working...</td>\n",
              "      <td>@VirginAmerica Your chat support is not workin...</td>\n",
              "      <td>[@VirginAmerica, Your, chat, support, is, not,...</td>\n",
              "    </tr>\n",
              "    <tr>\n",
              "      <th>40</th>\n",
              "      <td>positive</td>\n",
              "      <td>virginamerica view of downtown los angeles the...</td>\n",
              "      <td>@VirginAmerica View of downtown Los Angeles, t...</td>\n",
              "      <td>[@VirginAmerica, View, of, downtown, Los, Ange...</td>\n",
              "    </tr>\n",
              "    <tr>\n",
              "      <th>41</th>\n",
              "      <td>negative</td>\n",
              "      <td>virginamerica hey first time flyer next week e...</td>\n",
              "      <td>@VirginAmerica Hey, first time flyer next week...</td>\n",
              "      <td>[@VirginAmerica, Hey, ,, first, time, flyer, n...</td>\n",
              "    </tr>\n",
              "    <tr>\n",
              "      <th>42</th>\n",
              "      <td>neutral</td>\n",
              "      <td>virginamerica plz help me win my bid upgrade f...</td>\n",
              "      <td>@VirginAmerica plz help me win my bid upgrade ...</td>\n",
              "      <td>[@VirginAmerica, plz, help, me, win, my, bid, ...</td>\n",
              "    </tr>\n",
              "    <tr>\n",
              "      <th>43</th>\n",
              "      <td>neutral</td>\n",
              "      <td>virginamerica i have an unused ticket but move...</td>\n",
              "      <td>@VirginAmerica I have an unused ticket but mov...</td>\n",
              "      <td>[@VirginAmerica, I, have, an, unused, ticket, ...</td>\n",
              "    </tr>\n",
              "    <tr>\n",
              "      <th>44</th>\n",
              "      <td>neutral</td>\n",
              "      <td>virginamerica are flights leaving dallas for s...</td>\n",
              "      <td>@VirginAmerica are flights leaving Dallas for ...</td>\n",
              "      <td>[@VirginAmerica, are, flights, leaving, Dallas...</td>\n",
              "    </tr>\n",
              "    <tr>\n",
              "      <th>45</th>\n",
              "      <td>positive</td>\n",
              "      <td>virginamerica im elevategold for a good reason...</td>\n",
              "      <td>@VirginAmerica I'm #elevategold for a good rea...</td>\n",
              "      <td>[@VirginAmerica, I'm, #elevategold, for, a, go...</td>\n",
              "    </tr>\n",
              "    <tr>\n",
              "      <th>46</th>\n",
              "      <td>neutral</td>\n",
              "      <td>virginamerica dream httptcooadrfaoq httptcolww...</td>\n",
              "      <td>@VirginAmerica  DREAM http://t.co/oA2dRfAoQ2 h...</td>\n",
              "      <td>[@VirginAmerica, DREAM, http://t.co/oA2dRfAoQ2...</td>\n",
              "    </tr>\n",
              "    <tr>\n",
              "      <th>47</th>\n",
              "      <td>positive</td>\n",
              "      <td>virginamerica wow this just blew my mind</td>\n",
              "      <td>@VirginAmerica wow this just blew my mind</td>\n",
              "      <td>[@VirginAmerica, wow, this, just, blew, my, mind]</td>\n",
              "    </tr>\n",
              "    <tr>\n",
              "      <th>48</th>\n",
              "      <td>neutral</td>\n",
              "      <td>virginamerica ladygaga carrieunderwood after l...</td>\n",
              "      <td>@VirginAmerica @ladygaga @carrieunderwood Afte...</td>\n",
              "      <td>[@VirginAmerica, @ladygaga, @carrieunderwood, ...</td>\n",
              "    </tr>\n",
              "    <tr>\n",
              "      <th>49</th>\n",
              "      <td>neutral</td>\n",
              "      <td>virginamerica ladygaga carrieunderwood all wer...</td>\n",
              "      <td>@VirginAmerica @ladygaga @carrieunderwood All ...</td>\n",
              "      <td>[@VirginAmerica, @ladygaga, @carrieunderwood, ...</td>\n",
              "    </tr>\n",
              "  </tbody>\n",
              "</table>\n",
              "</div>"
            ],
            "text/plain": [
              "   airline_sentiment  ...                                       tweet_tokens\n",
              "0            neutral  ...         [@VirginAmerica, What, @dhepburn, said, .]\n",
              "1           positive  ...  [@VirginAmerica, plus, you've, added, commerci...\n",
              "2            neutral  ...  [@VirginAmerica, I, didn't, today, ..., Must, ...\n",
              "3           negative  ...  [@VirginAmerica, it's, really, aggressive, to,...\n",
              "4           negative  ...  [@VirginAmerica, and, it's, a, really, big, ba...\n",
              "5           negative  ...  [@VirginAmerica, seriously, would, pay, $, 30,...\n",
              "6           positive  ...  [@VirginAmerica, yes, ,, nearly, every, time, ...\n",
              "7            neutral  ...  [@VirginAmerica, Really, missed, a, prime, opp...\n",
              "8           positive  ...  [@virginamerica, Well, ,, I, didn't, …, but, N...\n",
              "9           positive  ...  [@VirginAmerica, it, was, amazing, ,, and, arr...\n",
              "10           neutral  ...  [@VirginAmerica, did, you, know, that, suicide...\n",
              "11          positive  ...  [@VirginAmerica, I, <3, pretty, graphics, ., s...\n",
              "12          positive  ...  [@VirginAmerica, This, is, such, a, great, dea...\n",
              "13          positive  ...  [@VirginAmerica, @virginmedia, I'm, flying, yo...\n",
              "14          positive  ...                        [@VirginAmerica, Thanks, !]\n",
              "15          negative  ...  [@VirginAmerica, SFO-PDX, schedule, is, still,...\n",
              "16          positive  ...  [@VirginAmerica, So, excited, for, my, first, ...\n",
              "17          negative  ...  [@VirginAmerica, I, flew, from, NYC, to, SFO, ...\n",
              "18          positive  ...      [I, ❤, ️, flying, @VirginAmerica, ., ☺, ️, 👍]\n",
              "19          positive  ...  [@VirginAmerica, you, know, what, would, be, a...\n",
              "20          negative  ...  [@VirginAmerica, why, are, your, first, fares,...\n",
              "21          positive  ...  [@VirginAmerica, I, love, this, graphic, ., ht...\n",
              "22          positive  ...  [@VirginAmerica, I, love, the, hipster, innova...\n",
              "23           neutral  ...  [@VirginAmerica, will, you, be, making, BOS, >...\n",
              "24          negative  ...  [@VirginAmerica, you, guys, messed, up, my, se...\n",
              "25          negative  ...  [@VirginAmerica, status, match, program, ., I,...\n",
              "26          negative  ...  [@VirginAmerica, What, happened, 2, ur, vegan,...\n",
              "27           neutral  ...  [@VirginAmerica, do, you, miss, me, ?, Don't, ...\n",
              "28          negative  ...  [@VirginAmerica, amazing, to, me, that, we, ca...\n",
              "29           neutral  ...  [@VirginAmerica, LAX, to, EWR, -, Middle, seat...\n",
              "30          negative  ...  [@VirginAmerica, hi, !, I, just, bked, a, cool...\n",
              "31           neutral  ...  [@VirginAmerica, Are, the, hours, of, operatio...\n",
              "32          negative  ...  [@VirginAmerica, help, ,, left, expensive, hea...\n",
              "33          negative  ...  [@VirginAmerica, awaiting, my, return, phone, ...\n",
              "34          positive  ...  [@VirginAmerica, this, is, great, news, !, Ame...\n",
              "35           neutral  ...  [Nice, RT, @VirginAmerica, :, Vibe, with, the,...\n",
              "36          positive  ...  [@VirginAmerica, Moodlighting, is, the, only, ...\n",
              "37          positive  ...  [@VirginAmerica, @freddieawards, Done, and, do...\n",
              "38           neutral  ...  [@VirginAmerica, when, can, I, book, my, fligh...\n",
              "39          negative  ...  [@VirginAmerica, Your, chat, support, is, not,...\n",
              "40          positive  ...  [@VirginAmerica, View, of, downtown, Los, Ange...\n",
              "41          negative  ...  [@VirginAmerica, Hey, ,, first, time, flyer, n...\n",
              "42           neutral  ...  [@VirginAmerica, plz, help, me, win, my, bid, ...\n",
              "43           neutral  ...  [@VirginAmerica, I, have, an, unused, ticket, ...\n",
              "44           neutral  ...  [@VirginAmerica, are, flights, leaving, Dallas...\n",
              "45          positive  ...  [@VirginAmerica, I'm, #elevategold, for, a, go...\n",
              "46           neutral  ...  [@VirginAmerica, DREAM, http://t.co/oA2dRfAoQ2...\n",
              "47          positive  ...  [@VirginAmerica, wow, this, just, blew, my, mind]\n",
              "48           neutral  ...  [@VirginAmerica, @ladygaga, @carrieunderwood, ...\n",
              "49           neutral  ...  [@VirginAmerica, @ladygaga, @carrieunderwood, ...\n",
              "\n",
              "[50 rows x 4 columns]"
            ]
          },
          "metadata": {
            "tags": []
          },
          "execution_count": 51
        }
      ]
    },
    {
      "cell_type": "code",
      "metadata": {
        "id": "4knsM5VUfFYv"
      },
      "source": [
        "from nltk.tokenize import word_tokenize, sent_tokenize\n",
        "def stemTokenize(sentence):\n",
        "  tokens=word_tokenize(sentence)\n",
        "  print(tokens)\n",
        "  stem_sentence=[]\n",
        "  for word in tokens:\n",
        "    print(word)\n",
        "    stem_sentence.append(porter.stem(word))\n",
        "    print(porter.stem(word))\n",
        "    stem_sentence.append(\" \")\n",
        "    return \"\".join(stem_sentence)\n"
      ],
      "execution_count": 52,
      "outputs": []
    },
    {
      "cell_type": "code",
      "metadata": {
        "colab": {
          "base_uri": "https://localhost:8080/",
          "height": 35
        },
        "id": "ICS_bUsgiSHc",
        "outputId": "eeae0a91-918c-4171-cefd-95cc11fce2ed"
      },
      "source": [
        "df3.iloc[500].text"
      ],
      "execution_count": 55,
      "outputs": [
        {
          "output_type": "execute_result",
          "data": {
            "application/vnd.google.colaboratory.intrinsic+json": {
              "type": "string"
            },
            "text/plain": [
              "'virginamerica was wondering if you guys recieved my dm and were able to potentially respond asap'"
            ]
          },
          "metadata": {
            "tags": []
          },
          "execution_count": 55
        }
      ]
    },
    {
      "cell_type": "code",
      "metadata": {
        "colab": {
          "base_uri": "https://localhost:8080/",
          "height": 140
        },
        "id": "9lEm1k8ajW8S",
        "outputId": "d2a3e18d-fb91-45be-9680-d8e52306ba28"
      },
      "source": [
        "nltk.download('punkt')\n",
        "totalsentence=\"virginamerica was wondering if you guys recieved my dm and were able to potentially respond asap\"\n",
        "stemTokenize(totalsentence)"
      ],
      "execution_count": 56,
      "outputs": [
        {
          "output_type": "stream",
          "text": [
            "[nltk_data] Downloading package punkt to /root/nltk_data...\n",
            "[nltk_data]   Package punkt is already up-to-date!\n",
            "['virginamerica', 'was', 'wondering', 'if', 'you', 'guys', 'recieved', 'my', 'dm', 'and', 'were', 'able', 'to', 'potentially', 'respond', 'asap']\n",
            "virginamerica\n",
            "virginamerica\n"
          ],
          "name": "stdout"
        },
        {
          "output_type": "execute_result",
          "data": {
            "application/vnd.google.colaboratory.intrinsic+json": {
              "type": "string"
            },
            "text/plain": [
              "'virginamerica '"
            ]
          },
          "metadata": {
            "tags": []
          },
          "execution_count": 56
        }
      ]
    }
  ]
}